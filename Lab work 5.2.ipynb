{
 "cells":[
  {
   "cell_type":"markdown",
   "source":[
    "___\n",
    "\n",
    "<a href='https:\/\/mainacademy.ua\/'> <img src='https:\/\/mainacademy.ua\/wp-content\/uploads\/2019\/03\/logo-main.png' alt = 'Хмм, щось з інтернетом'\/><\/a>\n",
    "___\n",
    "\n",
    "# Module 5: Data analysis with NumPy and Pandas"
   ],
   "attachments":{
    
   },
   "metadata":{
    "datalore":{
     "node_id":"5683TwORiuGNjScXk1opES",
     "type":"MD",
     "hide_input_from_viewers":false,
     "hide_output_from_viewers":false,
     "report_properties":{
      "rowId":"TuqaLZmABLU6cFLYxv90VD"
     }
    }
   }
  },
  {
   "cell_type":"markdown",
   "source":[
    "## Lab work 5.2\n"
   ],
   "attachments":{
    
   },
   "metadata":{
    "datalore":{
     "node_id":"VRP0tvctAlouyKxBrkIg4E",
     "type":"MD",
     "hide_input_from_viewers":false,
     "hide_output_from_viewers":false,
     "report_properties":{
      "rowId":"JoLo6s293hRlKMq2mpNPoL"
     }
    }
   }
  },
  {
   "cell_type":"markdown",
   "source":[
    "#### Мета: \n",
    "\n",
    "* навчитися працювати із бібліотекою Pandas в Python."
   ],
   "attachments":{
    
   },
   "metadata":{
    "datalore":{
     "node_id":"SrwvOOKAQ2iRGTyWcln2xQ",
     "type":"MD",
     "hide_input_from_viewers":false,
     "hide_output_from_viewers":false,
     "report_properties":{
      "rowId":"HV0f7cMBcCvBAwpSl0mYKF"
     }
    }
   }
  },
  {
   "cell_type":"markdown",
   "source":[
    "### Завдання:"
   ],
   "attachments":{
    
   },
   "metadata":{
    "datalore":{
     "node_id":"GgNfixTVRmql737BK00OpN",
     "type":"MD",
     "hide_input_from_viewers":false,
     "hide_output_from_viewers":false,
     "report_properties":{
      "rowId":"BULLNjL7pFvYIQl6xQ3Ery"
     }
    }
   }
  },
  {
   "cell_type":"code",
   "source":[
    "import pandas as pd"
   ],
   "execution_count":2,
   "outputs":[
    
   ],
   "metadata":{
    "datalore":{
     "node_id":"BLZAKuQVT1yc7TCapizlXq",
     "type":"CODE",
     "hide_input_from_viewers":false,
     "hide_output_from_viewers":false,
     "report_properties":{
      "rowId":"lFJo1zbSBlRedwymDxylN5"
     }
    }
   }
  },
  {
   "cell_type":"markdown",
   "source":[
    "Вивести версію та конфігурацію бібліотеки:"
   ],
   "attachments":{
    
   },
   "metadata":{
    "datalore":{
     "node_id":"LM9AFmsmrEsgZPhgxFXcp3",
     "type":"MD",
     "hide_input_from_viewers":false,
     "hide_output_from_viewers":false,
     "report_properties":{
      "rowId":"ntahuj1SwOQQ31y13WArdC"
     }
    }
   }
  },
  {
   "cell_type":"code",
   "source":[
    "print(\"Version:\", pd.__version__)"
   ],
   "execution_count":85,
   "outputs":[
    {
     "name":"stdout",
     "text":[
      "Version: 1.3.5\n"
     ],
     "output_type":"stream"
    }
   ],
   "metadata":{
    "datalore":{
     "node_id":"2vsueSQqXdxpKMT2k6RidT",
     "type":"CODE",
     "hide_input_from_viewers":false,
     "hide_output_from_viewers":false,
     "report_properties":{
      "rowId":"6rFmApWo5OPyhTbQnCbvCZ"
     }
    }
   }
  },
  {
   "cell_type":"code",
   "source":[
    "print(pd.describe_option())"
   ],
   "execution_count":86,
   "outputs":[
    {
     "name":"stdout",
     "text":[
      "compute.use_bottleneck : bool\n",
      "    Use the bottleneck library to accelerate if it is installed,\n",
      "    the default is True\n",
      "    Valid values: False,True\n",
      "    [default: True] [currently: True]\n",
      "compute.use_numba : bool\n",
      "    Use the numba engine option for select operations if it is installed,\n",
      "    the default is False\n",
      "    Valid values: False,True\n",
      "    [default: False] [currently: False]\n",
      "compute.use_numexpr : bool\n",
      "    Use the numexpr library to accelerate computation if it is installed,\n",
      "    the default is True\n",
      "    Valid values: False,True\n",
      "    [default: True] [currently: True]\n",
      "display.chop_threshold : float or None\n",
      "    if set to a float value, all float values smaller then the given threshold\n",
      "    will be displayed as exactly 0 by repr and friends.\n",
      "    [default: None] [currently: None]\n",
      "display.colheader_justify : 'left'\/'right'\n",
      "    Controls the justification of column headers. used by DataFrameFormatter.\n",
      "    [default: right] [currently: right]\n",
      "display.column_space No description available.\n",
      "    [default: 12] [currently: 12]\n",
      "display.date_dayfirst : boolean\n",
      "    When True, prints and parses dates with the day first, eg 20\/01\/2005\n",
      "    [default: False] [currently: False]\n",
      "display.date_yearfirst : boolean\n",
      "    When True, prints and parses dates with the year first, eg 2005\/01\/20\n",
      "    [default: False] [currently: False]\n",
      "display.encoding : str\/unicode\n",
      "    Defaults to the detected encoding of the console.\n",
      "    Specifies the encoding to be used for strings returned by to_string,\n",
      "    these are generally strings meant to be displayed on the console.\n",
      "    [default: UTF-8] [currently: UTF-8]\n",
      "display.expand_frame_repr : boolean\n",
      "    Whether to print out the full DataFrame repr for wide DataFrames across\n",
      "    multiple lines, `max_columns` is still respected, but the output will\n",
      "    wrap-around across multiple \"pages\" if its width exceeds `display.width`.\n",
      "    [default: True] [currently: True]\n",
      "display.float_format : callable\n",
      "    The callable should accept a floating point number and return\n",
      "    a string with the desired format of the number. This is used\n",
      "    in some places like SeriesFormatter.\n",
      "    See formats.format.EngFormatter for an example.\n",
      "    [default: None] [currently: None]\n",
      "display.html.border : int\n",
      "    A ``border=value`` attribute is inserted in the ``<table>`` tag\n",
      "    for the DataFrame HTML repr.\n",
      "    [default: 1] [currently: 1]\n",
      "display.html.table_schema : boolean\n",
      "    Whether to publish a Table Schema representation for frontends\n",
      "    that support it.\n",
      "    (default: False)\n",
      "    [default: False] [currently: False]\n",
      "display.html.use_mathjax : boolean\n",
      "    When True, Jupyter notebook will process table contents using MathJax,\n",
      "    rendering mathematical expressions enclosed by the dollar symbol.\n",
      "    (default: True)\n",
      "    [default: True] [currently: True]\n",
      "display.large_repr : 'truncate'\/'info'\n",
      "    For DataFrames exceeding max_rows\/max_cols, the repr (and HTML repr) can\n",
      "    show a truncated table (the default from 0.13), or switch to the view from\n",
      "    df.info() (the behaviour in earlier versions of pandas).\n",
      "    [default: truncate] [currently: truncate]\n",
      "display.latex.escape : bool\n",
      "    This specifies if the to_latex method of a Dataframe uses escapes special\n",
      "    characters.\n",
      "    Valid values: False,True\n",
      "    [default: True] [currently: True]\n",
      "display.latex.longtable :bool\n",
      "    This specifies if the to_latex method of a Dataframe uses the longtable\n",
      "    format.\n",
      "    Valid values: False,True\n",
      "    [default: False] [currently: False]\n",
      "display.latex.multicolumn : bool\n",
      "    This specifies if the to_latex method of a Dataframe uses multicolumns\n",
      "    to pretty-print MultiIndex columns.\n",
      "    Valid values: False,True\n",
      "    [default: True] [currently: True]\n",
      "display.latex.multicolumn_format : bool\n",
      "    This specifies if the to_latex method of a Dataframe uses multicolumns\n",
      "    to pretty-print MultiIndex columns.\n",
      "    Valid values: False,True\n",
      "    [default: l] [currently: l]\n",
      "display.latex.multirow : bool\n",
      "    This specifies if the to_latex method of a Dataframe uses multirows\n",
      "    to pretty-print MultiIndex rows.\n",
      "    Valid values: False,True\n",
      "    [default: False] [currently: False]\n",
      "display.latex.repr : boolean\n",
      "    Whether to produce a latex DataFrame representation for jupyter\n",
      "    environments that support it.\n",
      "    (default: False)\n",
      "    [default: False] [currently: False]\n",
      "display.max_categories : int\n",
      "    This sets the maximum number of categories pandas should output when\n",
      "    printing out a `Categorical` or a Series of dtype \"category\".\n",
      "    [default: 8] [currently: 8]\n",
      "display.max_columns : int\n",
      "    If max_cols is exceeded, switch to truncate view. Depending on\n",
      "    `large_repr`, objects are either centrally truncated or printed as\n",
      "    a summary view. 'None' value means unlimited.\n",
      "\n",
      "    In case python\/IPython is running in a terminal and `large_repr`\n",
      "    equals 'truncate' this can be set to 0 and pandas will auto-detect\n",
      "    the width of the terminal and print a truncated object which fits\n",
      "    the screen width. The IPython notebook, IPython qtconsole, or IDLE\n",
      "    do not run in a terminal and hence it is not possible to do\n",
      "    correct auto-detection.\n",
      "    [default: 20] [currently: 20]\n",
      "display.max_colwidth : int or None\n",
      "    The maximum width in characters of a column in the repr of\n",
      "    a pandas data structure. When the column overflows, a \"...\"\n",
      "    placeholder is embedded in the output. A 'None' value means unlimited.\n",
      "    [default: 50] [currently: 50]\n",
      "display.max_info_columns : int\n",
      "    max_info_columns is used in DataFrame.info method to decide if\n",
      "    per column information will be printed.\n",
      "    [default: 100] [currently: 100]\n",
      "display.max_info_rows : int or None\n",
      "    df.info() will usually show null-counts for each column.\n",
      "    For large frames this can be quite slow. max_info_rows and max_info_cols\n",
      "    limit this null check only to frames with smaller dimensions than\n",
      "    specified.\n",
      "    [default: 1690785] [currently: 1690785]\n",
      "display.max_rows : int\n",
      "    If max_rows is exceeded, switch to truncate view. Depending on\n",
      "    `large_repr`, objects are either centrally truncated or printed as\n",
      "    a summary view. 'None' value means unlimited.\n",
      "\n",
      "    In case python\/IPython is running in a terminal and `large_repr`\n",
      "    equals 'truncate' this can be set to 0 and pandas will auto-detect\n",
      "    the height of the terminal and print a truncated object which fits\n",
      "    the screen height. The IPython notebook, IPython qtconsole, or\n",
      "    IDLE do not run in a terminal and hence it is not possible to do\n",
      "    correct auto-detection.\n",
      "    [default: 60] [currently: 60]\n",
      "display.max_seq_items : int or None\n",
      "    When pretty-printing a long sequence, no more then `max_seq_items`\n",
      "    will be printed. If items are omitted, they will be denoted by the\n",
      "    addition of \"...\" to the resulting string.\n",
      "\n",
      "    If set to None, the number of items to be printed is unlimited.\n",
      "    [default: 100] [currently: 100]\n",
      "display.memory_usage : bool, string or None\n",
      "    This specifies if the memory usage of a DataFrame should be displayed when\n",
      "    df.info() is called. Valid values True,False,'deep'\n",
      "    [default: True] [currently: True]\n",
      "display.min_rows : int\n",
      "    The numbers of rows to show in a truncated view (when `max_rows` is\n",
      "    exceeded). Ignored when `max_rows` is set to None or 0. When set to\n",
      "    None, follows the value of `max_rows`.\n",
      "    [default: 10] [currently: 10]\n",
      "display.multi_sparse : boolean\n",
      "    \"sparsify\" MultiIndex display (don't display repeated\n",
      "    elements in outer levels within groups)\n",
      "    [default: True] [currently: True]\n",
      "display.notebook_repr_html : boolean\n",
      "    When True, IPython notebook will use html representation for\n",
      "    pandas objects (if it is available).\n",
      "    [default: True] [currently: True]\n",
      "display.pprint_nest_depth : int\n",
      "    Controls the number of nested levels to process when pretty-printing\n",
      "    [default: 3] [currently: 3]\n",
      "display.precision : int\n",
      "    Floating point output precision in terms of number of places after the\n",
      "    decimal, for regular formatting as well as scientific notation. Similar\n",
      "    to ``precision`` in :meth:`numpy.set_printoptions`.\n",
      "    [default: 6] [currently: 6]\n",
      "display.show_dimensions : boolean or 'truncate'\n",
      "    Whether to print out dimensions at the end of DataFrame repr.\n",
      "    If 'truncate' is specified, only print out the dimensions if the\n",
      "    frame is truncated (e.g. not display all rows and\/or columns)\n",
      "    [default: truncate] [currently: truncate]\n",
      "display.unicode.ambiguous_as_wide : boolean\n",
      "    Whether to use the Unicode East Asian Width to calculate the display text\n",
      "    width.\n",
      "    Enabling this may affect to the performance (default: False)\n",
      "    [default: False] [currently: False]\n",
      "display.unicode.east_asian_width : boolean\n",
      "    Whether to use the Unicode East Asian Width to calculate the display text\n",
      "    width.\n",
      "    Enabling this may affect to the performance (default: False)\n",
      "    [default: False] [currently: False]\n",
      "display.width : int\n",
      "    Width of the display in characters. In case python\/IPython is running in\n",
      "    a terminal this can be set to None and pandas will correctly auto-detect\n",
      "    the width.\n",
      "    Note that the IPython notebook, IPython qtconsole, or IDLE do not run in a\n",
      "    terminal and hence it is not possible to correctly detect the width.\n",
      "    [default: 80] [currently: 80]\n",
      "io.excel.ods.reader : string\n",
      "    The default Excel reader engine for 'ods' files. Available options:\n",
      "    auto, odf.\n",
      "    [default: auto] [currently: auto]\n",
      "io.excel.ods.writer : string\n",
      "    The default Excel writer engine for 'ods' files. Available options:\n",
      "    auto, odf.\n",
      "    [default: auto] [currently: auto]\n",
      "io.excel.xls.reader : string\n",
      "    The default Excel reader engine for 'xls' files. Available options:\n",
      "    auto, xlrd.\n",
      "    [default: auto] [currently: auto]\n",
      "io.excel.xls.writer : string\n",
      "    The default Excel writer engine for 'xls' files. Available options:\n",
      "    auto, xlwt.\n",
      "    [default: auto] [currently: auto]\n",
      "    (Deprecated, use `` instead.)\n",
      "io.excel.xlsb.reader : string\n",
      "    The default Excel reader engine for 'xlsb' files. Available options:\n",
      "    auto, pyxlsb.\n",
      "    [default: auto] [currently: auto]\n",
      "io.excel.xlsm.reader : string\n",
      "    The default Excel reader engine for 'xlsm' files. Available options:\n",
      "    auto, xlrd, openpyxl.\n",
      "    [default: auto] [currently: auto]\n",
      "io.excel.xlsm.writer : string\n",
      "    The default Excel writer engine for 'xlsm' files. Available options:\n",
      "    auto, openpyxl.\n",
      "    [default: auto] [currently: auto]\n",
      "io.excel.xlsx.reader : string\n",
      "    The default Excel reader engine for 'xlsx' files. Available options:\n",
      "    auto, xlrd, openpyxl.\n",
      "    [default: auto] [currently: auto]\n",
      "io.excel.xlsx.writer : string\n",
      "    The default Excel writer engine for 'xlsx' files. Available options:\n",
      "    auto, openpyxl, xlsxwriter.\n",
      "    [default: auto] [currently: auto]\n",
      "io.hdf.default_format : format\n",
      "    default format writing format, if None, then\n",
      "    put will default to 'fixed' and append will default to 'table'\n",
      "    [default: None] [currently: None]\n",
      "io.hdf.dropna_table : boolean\n",
      "    drop ALL nan rows when appending to a table\n",
      "    [default: False] [currently: False]\n",
      "io.parquet.engine : string\n",
      "    The default parquet reader\/writer engine. Available options:\n",
      "    'auto', 'pyarrow', 'fastparquet', the default is 'auto'\n",
      "    [default: auto] [currently: auto]\n",
      "io.sql.engine : string\n",
      "    The default sql reader\/writer engine. Available options:\n",
      "    'auto', 'sqlalchemy', the default is 'auto'\n",
      "    [default: auto] [currently: auto]\n",
      "mode.chained_assignment : string\n",
      "    Raise an exception, warn, or no action if trying to use chained assignment,\n",
      "    The default is warn\n",
      "    [default: warn] [currently: warn]\n",
      "mode.data_manager : string\n",
      "    Internal data manager type; can be \"block\" or \"array\". Defaults to \"block\",\n",
      "    unless overridden by the 'PANDAS_DATA_MANAGER' environment variable (needs\n",
      "    to be set before pandas is imported).\n",
      "    [default: block] [currently: block]\n",
      "mode.sim_interactive : boolean\n",
      "    Whether to simulate interactive mode for purposes of testing\n",
      "    [default: False] [currently: False]\n",
      "mode.string_storage : string\n",
      "    The default storage for StringDtype.\n",
      "    [default: python] [currently: python]\n",
      "mode.use_inf_as_na : boolean\n",
      "    True means treat None, NaN, INF, -INF as NA (old way),\n",
      "    False means None and NaN are null, but INF, -INF are not NA\n",
      "    (new way).\n",
      "    [default: False] [currently: False]\n",
      "mode.use_inf_as_null : boolean\n",
      "    use_inf_as_null had been deprecated and will be removed in a future\n",
      "    version. Use `use_inf_as_na` instead.\n",
      "    [default: False] [currently: False]\n",
      "    (Deprecated, use `mode.use_inf_as_na` instead.)\n",
      "plotting.backend : str\n",
      "    The plotting backend to use. The default value is \"matplotlib\", the\n",
      "    backend provided with pandas. Other backends can be specified by\n",
      "    providing the name of the module that implements the backend.\n",
      "    [default: matplotlib] [currently: matplotlib]\n",
      "plotting.matplotlib.register_converters : bool or 'auto'.\n",
      "    Whether to register converters with matplotlib's units registry for\n",
      "    dates, times, datetimes, and Periods. Toggling to False will remove\n",
      "    the converters, restoring any converters that pandas overwrote.\n",
      "    [default: auto] [currently: auto]\n",
      "styler.render.max_elements : int\n",
      "    The maximum number of data-cell (<td>) elements that will be rendered before\n",
      "    trimming will occur over columns, rows or both if needed.\n",
      "    [default: 262144] [currently: 262144]\n",
      "styler.sparse.columns : bool\n",
      "    Whether to sparsify the display of hierarchical columns. Setting to False will\n",
      "    display each explicit level element in a hierarchical key for each column.\n",
      "    [default: True] [currently: True]\n",
      "styler.sparse.index : bool\n",
      "    Whether to sparsify the display of a hierarchical index. Setting to False will\n",
      "    display each explicit level element in a hierarchical key for each row.\n",
      "    [default: True] [currently: True]\n",
      "None\n"
     ],
     "output_type":"stream"
    }
   ],
   "metadata":{
    "datalore":{
     "node_id":"a38zXV8UarSWs6XGGi8RYJ",
     "type":"CODE",
     "hide_input_from_viewers":true,
     "hide_output_from_viewers":true
    }
   }
  },
  {
   "cell_type":"code",
   "source":[
    "df = pd.read_csv('Ecommerce Purchases.csv')\n",
    "df.head()"
   ],
   "execution_count":4,
   "outputs":[
    {
     "data":{
      "text\/html":[
       "<div>\n",
       "<style scoped>\n",
       "    .dataframe tbody tr th:only-of-type {\n",
       "        vertical-align: middle;\n",
       "    }\n",
       "\n",
       "    .dataframe tbody tr th {\n",
       "        vertical-align: top;\n",
       "    }\n",
       "\n",
       "    .dataframe thead th {\n",
       "        text-align: right;\n",
       "    }\n",
       "<\/style>\n",
       "<table border=\"1\" class=\"dataframe\">\n",
       "  <thead>\n",
       "    <tr style=\"text-align: right;\">\n",
       "      <th><\/th>\n",
       "      <th>Address<\/th>\n",
       "      <th>Lot<\/th>\n",
       "      <th>AM or PM<\/th>\n",
       "      <th>Browser Info<\/th>\n",
       "      <th>Company<\/th>\n",
       "      <th>Credit Card<\/th>\n",
       "      <th>CC Exp Date<\/th>\n",
       "      <th>CC Security Code<\/th>\n",
       "      <th>CC Provider<\/th>\n",
       "      <th>Email<\/th>\n",
       "      <th>Job<\/th>\n",
       "      <th>IP Address<\/th>\n",
       "      <th>Language<\/th>\n",
       "      <th>Purchase Price<\/th>\n",
       "    <\/tr>\n",
       "  <\/thead>\n",
       "  <tbody>\n",
       "    <tr>\n",
       "      <th>0<\/th>\n",
       "      <td>16629 Pace Camp Apt. 448\\nAlexisborough, NE 77...<\/td>\n",
       "      <td>46 in<\/td>\n",
       "      <td>PM<\/td>\n",
       "      <td>Opera\/9.56.(X11; Linux x86_64; sl-SI) Presto\/2...<\/td>\n",
       "      <td>Martinez-Herman<\/td>\n",
       "      <td>6011929061123406<\/td>\n",
       "      <td>02\/20<\/td>\n",
       "      <td>900<\/td>\n",
       "      <td>JCB 16 digit<\/td>\n",
       "      <td>pdunlap@yahoo.com<\/td>\n",
       "      <td>Scientist, product\/process development<\/td>\n",
       "      <td>149.146.147.205<\/td>\n",
       "      <td>el<\/td>\n",
       "      <td>98.14<\/td>\n",
       "    <\/tr>\n",
       "    <tr>\n",
       "      <th>1<\/th>\n",
       "      <td>9374 Jasmine Spurs Suite 508\\nSouth John, TN 8...<\/td>\n",
       "      <td>28 rn<\/td>\n",
       "      <td>PM<\/td>\n",
       "      <td>Opera\/8.93.(Windows 98; Win 9x 4.90; en-US) Pr...<\/td>\n",
       "      <td>Fletcher, Richards and Whitaker<\/td>\n",
       "      <td>3337758169645356<\/td>\n",
       "      <td>11\/18<\/td>\n",
       "      <td>561<\/td>\n",
       "      <td>Mastercard<\/td>\n",
       "      <td>anthony41@reed.com<\/td>\n",
       "      <td>Drilling engineer<\/td>\n",
       "      <td>15.160.41.51<\/td>\n",
       "      <td>fr<\/td>\n",
       "      <td>70.73<\/td>\n",
       "    <\/tr>\n",
       "    <tr>\n",
       "      <th>2<\/th>\n",
       "      <td>Unit 0065 Box 5052\\nDPO AP 27450<\/td>\n",
       "      <td>94 vE<\/td>\n",
       "      <td>PM<\/td>\n",
       "      <td>Mozilla\/5.0 (compatible; MSIE 9.0; Windows NT ...<\/td>\n",
       "      <td>Simpson, Williams and Pham<\/td>\n",
       "      <td>675957666125<\/td>\n",
       "      <td>08\/19<\/td>\n",
       "      <td>699<\/td>\n",
       "      <td>JCB 16 digit<\/td>\n",
       "      <td>amymiller@morales-harrison.com<\/td>\n",
       "      <td>Customer service manager<\/td>\n",
       "      <td>132.207.160.22<\/td>\n",
       "      <td>de<\/td>\n",
       "      <td>0.95<\/td>\n",
       "    <\/tr>\n",
       "    <tr>\n",
       "      <th>3<\/th>\n",
       "      <td>7780 Julia Fords\\nNew Stacy, WA 45798<\/td>\n",
       "      <td>36 vm<\/td>\n",
       "      <td>PM<\/td>\n",
       "      <td>Mozilla\/5.0 (Macintosh; Intel Mac OS X 10_8_0 ...<\/td>\n",
       "      <td>Williams, Marshall and Buchanan<\/td>\n",
       "      <td>6011578504430710<\/td>\n",
       "      <td>02\/24<\/td>\n",
       "      <td>384<\/td>\n",
       "      <td>Discover<\/td>\n",
       "      <td>brent16@olson-robinson.info<\/td>\n",
       "      <td>Drilling engineer<\/td>\n",
       "      <td>30.250.74.19<\/td>\n",
       "      <td>es<\/td>\n",
       "      <td>78.04<\/td>\n",
       "    <\/tr>\n",
       "    <tr>\n",
       "      <th>4<\/th>\n",
       "      <td>23012 Munoz Drive Suite 337\\nNew Cynthia, TX 5...<\/td>\n",
       "      <td>20 IE<\/td>\n",
       "      <td>AM<\/td>\n",
       "      <td>Opera\/9.58.(X11; Linux x86_64; it-IT) Presto\/2...<\/td>\n",
       "      <td>Brown, Watson and Andrews<\/td>\n",
       "      <td>6011456623207998<\/td>\n",
       "      <td>10\/25<\/td>\n",
       "      <td>678<\/td>\n",
       "      <td>Diners Club \/ Carte Blanche<\/td>\n",
       "      <td>christopherwright@gmail.com<\/td>\n",
       "      <td>Fine artist<\/td>\n",
       "      <td>24.140.33.94<\/td>\n",
       "      <td>es<\/td>\n",
       "      <td>77.82<\/td>\n",
       "    <\/tr>\n",
       "  <\/tbody>\n",
       "<\/table>\n",
       "<\/div>"
      ]
     },
     "metadata":{
      
     },
     "output_type":"display_data"
    }
   ],
   "metadata":{
    "datalore":{
     "node_id":"ZfVKD3oqn1oxmuF8QTskZm",
     "type":"CODE",
     "hide_input_from_viewers":false,
     "hide_output_from_viewers":false,
     "report_properties":{
      "rowId":"d7dzUIlhENQhsvjB2ncdvJ"
     }
    }
   }
  },
  {
   "cell_type":"markdown",
   "source":[
    "Скільки рядків і стовпців в наборі даних:"
   ],
   "attachments":{
    
   },
   "metadata":{
    "datalore":{
     "node_id":"DDHGs9DlmrPi7g8iH7cQBh",
     "type":"MD",
     "hide_input_from_viewers":false,
     "hide_output_from_viewers":false,
     "report_properties":{
      "rowId":"wYK07zy2ktSMLWRDUUZnmS"
     }
    }
   }
  },
  {
   "cell_type":"code",
   "source":[
    "print(\"Numbers of rows and columns in df are:\", df.shape)"
   ],
   "execution_count":208,
   "outputs":[
    {
     "name":"stdout",
     "text":[
      "Numbers of rows and columns in df are: (10000, 14)\n"
     ],
     "output_type":"stream"
    }
   ],
   "metadata":{
    "datalore":{
     "node_id":"UgHASvsB4thN37OeMT0II9",
     "type":"CODE",
     "hide_input_from_viewers":false,
     "hide_output_from_viewers":false,
     "report_properties":{
      "rowId":"5FRWtBWAJrjGhugr0Pb0LZ"
     }
    }
   }
  },
  {
   "cell_type":"markdown",
   "source":[
    "Перевірити, чи в наборі даних містяться порожні значення:"
   ],
   "attachments":{
    
   },
   "metadata":{
    "datalore":{
     "node_id":"kCpu75KfTqiv3xcVj0aQz6",
     "type":"MD",
     "hide_input_from_viewers":false,
     "hide_output_from_viewers":false,
     "report_properties":{
      "rowId":"cXJi6VGh3F99vrwlE6tn85"
     }
    }
   }
  },
  {
   "cell_type":"code",
   "source":[
    "#through all certain columns\n",
    "sum_of_nulls = df.isna().sum()\n",
    "sum_of_nulls"
   ],
   "execution_count":209,
   "outputs":[
    {
     "data":{
      "text\/html":[
       "<pre>Address             0\n",
       "Lot                 0\n",
       "AM or PM            0\n",
       "Browser Info        0\n",
       "Company             0\n",
       "Credit Card         0\n",
       "CC Exp Date         0\n",
       "CC Security Code    0\n",
       "CC Provider         0\n",
       "Email               0\n",
       "Job                 0\n",
       "IP Address          0\n",
       "Language            0\n",
       "Purchase Price      0\n",
       "dtype: int64<\/pre>"
      ]
     },
     "metadata":{
      
     },
     "output_type":"display_data"
    }
   ],
   "metadata":{
    "datalore":{
     "node_id":"fnDoR25QIo9ZrjYvKtV4jM",
     "type":"CODE",
     "hide_input_from_viewers":false,
     "hide_output_from_viewers":false,
     "report_properties":{
      "rowId":"kB9u9ZNMcWwPdf6mFVNIZZ"
     }
    }
   }
  },
  {
   "cell_type":"code",
   "source":[
    "#through all df\n",
    "sum_of_nulls_df = df.isna().sum().sum()\n",
    "sum_of_nulls_df"
   ],
   "execution_count":210,
   "outputs":[
    {
     "data":{
      "text\/plain":[
       "0"
      ]
     },
     "metadata":{
      
     },
     "output_type":"display_data"
    }
   ],
   "metadata":{
    "datalore":{
     "node_id":"gfQr21Ylqhr96FiPKArLgm",
     "type":"CODE",
     "hide_input_from_viewers":true,
     "hide_output_from_viewers":true
    }
   }
  },
  {
   "cell_type":"markdown",
   "source":[
    "Яка середня ціна закупки (Purchase Price):"
   ],
   "attachments":{
    
   },
   "metadata":{
    "datalore":{
     "node_id":"RddnRqMBCzpcm7k79TPYNg",
     "type":"MD",
     "hide_input_from_viewers":false,
     "hide_output_from_viewers":false,
     "report_properties":{
      "rowId":"Jq6IsdPCUDIkLtJeUpBuzX"
     }
    }
   }
  },
  {
   "cell_type":"code",
   "source":[
    "mean_price_purchase=df['Purchase Price'].mean()\n",
    "print(\"Mean price of purchase:\", mean_price_purchase)"
   ],
   "execution_count":211,
   "outputs":[
    {
     "name":"stdout",
     "text":[
      "Mean price of purchase: 50.347302\n"
     ],
     "output_type":"stream"
    }
   ],
   "metadata":{
    "datalore":{
     "node_id":"LecuGfjYHeeCuI4yqMsv5t",
     "type":"CODE",
     "hide_input_from_viewers":false,
     "hide_output_from_viewers":false,
     "report_properties":{
      "rowId":"9RmOICSVhU1qCPMPu5XR6h"
     }
    }
   }
  },
  {
   "cell_type":"markdown",
   "source":[
    "Скільки людей користуються англійською мовою \"en\" на веб-сайті:"
   ],
   "attachments":{
    
   },
   "metadata":{
    "datalore":{
     "node_id":"5vcro5eYLfFHj7z1O0uITJ",
     "type":"MD",
     "hide_input_from_viewers":false,
     "hide_output_from_viewers":false,
     "report_properties":{
      "rowId":"B0Es0kzBGh3JQpuRhTcQep"
     }
    }
   }
  },
  {
   "cell_type":"code",
   "source":[
    "en_speaking = df[df['Language']=='en']['Language'].count()\n",
    "print(\"Amount of english speaking customers on web-site:\", en_speaking)"
   ],
   "execution_count":212,
   "outputs":[
    {
     "name":"stdout",
     "text":[
      "Amount of english speaking customers on web-site: 1098\n"
     ],
     "output_type":"stream"
    }
   ],
   "metadata":{
    "datalore":{
     "node_id":"r33UdBEsR7auvziT91WDQs",
     "type":"CODE",
     "hide_input_from_viewers":false,
     "hide_output_from_viewers":false,
     "report_properties":{
      "rowId":"TAlJieYr2lCOkckH9tYl9V"
     }
    }
   }
  },
  {
   "cell_type":"markdown",
   "source":[
    "Скільки людей має посаду «Lawyer»?"
   ],
   "attachments":{
    
   },
   "metadata":{
    "datalore":{
     "node_id":"jxAHSuUrS10sBTRTf8goHU",
     "type":"MD",
     "hide_input_from_viewers":false,
     "hide_output_from_viewers":false,
     "report_properties":{
      "rowId":"ADJZPjax0NogOA6oYA6AQa"
     }
    }
   }
  },
  {
   "cell_type":"code",
   "source":[
    "lawyers = df[df['Job'] == 'Lawyer']['Job'].count()\n",
    "print(\"Amount of customers with lawyer position is:\", lawyers)"
   ],
   "execution_count":213,
   "outputs":[
    {
     "name":"stdout",
     "text":[
      "Amount of customers with lawyer position is: 30\n"
     ],
     "output_type":"stream"
    }
   ],
   "metadata":{
    "datalore":{
     "node_id":"RsP6c4fuxIGsXUqcwNcwO3",
     "type":"CODE",
     "hide_input_from_viewers":false,
     "hide_output_from_viewers":false,
     "report_properties":{
      "rowId":"6Hn6orYaRpFoVEbdGqA26c"
     }
    }
   }
  },
  {
   "cell_type":"markdown",
   "source":[
    "Скільки людей зробило покупку вранці та скільки людей зробило покупку після обіду?"
   ],
   "attachments":{
    
   },
   "metadata":{
    "datalore":{
     "node_id":"GfmNOEVQ1qQUqjl1PEKKGe",
     "type":"MD",
     "hide_input_from_viewers":false,
     "hide_output_from_viewers":false,
     "report_properties":{
      "rowId":"geoXJgvziLypWZF7bo9JPi"
     }
    }
   }
  },
  {
   "cell_type":"code",
   "source":[
    "morning_persons = df[df['AM or PM'] == 'AM']['AM or PM'].count()\n",
    "evening_persons = df[df['AM or PM'] == 'PM']['AM or PM'].count()\n",
    "print(\"Amount of customers buying at AM time:\", morning_persons)\n",
    "print(\"Amount of customers buying at PM time:\", evening_persons)"
   ],
   "execution_count":214,
   "outputs":[
    {
     "name":"stdout",
     "text":[
      "Amount of customers buying at AM time: 4932\n",
      "Amount of customers buying at PM time: 5068\n"
     ],
     "output_type":"stream"
    }
   ],
   "metadata":{
    "datalore":{
     "node_id":"Xwm7AZoa5fep0xaZnkwmTy",
     "type":"CODE",
     "hide_input_from_viewers":false,
     "hide_output_from_viewers":false,
     "report_properties":{
      "rowId":"1Di4Jd4mDaAXIEM0iKOxCy"
     }
    }
   }
  },
  {
   "cell_type":"markdown",
   "source":[
    "Які 5 найпоширеніших назв вакансій?"
   ],
   "attachments":{
    
   },
   "metadata":{
    "datalore":{
     "node_id":"NPJtxRyz0XuPfoqhiEy4Bh",
     "type":"MD",
     "hide_input_from_viewers":false,
     "hide_output_from_viewers":false,
     "report_properties":{
      "rowId":"mCIQ1biSqAqm0MHO9UEkQ6"
     }
    }
   }
  },
  {
   "cell_type":"code",
   "source":[
    "df['Job'] = df['Job'].str.lower()\n",
    "df['Job'].value_counts()[0:5]"
   ],
   "execution_count":215,
   "outputs":[
    {
     "data":{
      "text\/html":[
       "<pre>interior and spatial designer    31\n",
       "lawyer                           30\n",
       "social researcher                28\n",
       "purchasing manager               27\n",
       "designer, jewellery              27\n",
       "Name: Job, dtype: int64<\/pre>"
      ]
     },
     "metadata":{
      
     },
     "output_type":"display_data"
    }
   ],
   "metadata":{
    "datalore":{
     "node_id":"Vx2P9GMwm4SVZrbBmfPlgJ",
     "type":"CODE",
     "hide_input_from_viewers":false,
     "hide_output_from_viewers":false,
     "report_properties":{
      "rowId":"UZsQsJtljPR4kxkj2VA9BZ"
     }
    }
   }
  },
  {
   "cell_type":"markdown",
   "source":[
    "Хтось здійснив покупку, яка надійшла від Lot: \"90 Wt\", та якою була ціна придбання для цієї транзакції?"
   ],
   "attachments":{
    
   },
   "metadata":{
    "datalore":{
     "node_id":"3JmHziMsh5UXPFl0pAvR5v",
     "type":"MD",
     "hide_input_from_viewers":false,
     "hide_output_from_viewers":false,
     "report_properties":{
      "rowId":"m22cFOwAQZnT99l030jo1K"
     }
    }
   }
  },
  {
   "cell_type":"code",
   "source":[
    "df[df['Lot'].str.contains('90 Wt', case = False)][['Company', 'Purchase Price']]"
   ],
   "execution_count":216,
   "outputs":[
    {
     "data":{
      "text\/html":[
       "<div>\n",
       "<style scoped>\n",
       "    .dataframe tbody tr th:only-of-type {\n",
       "        vertical-align: middle;\n",
       "    }\n",
       "\n",
       "    .dataframe tbody tr th {\n",
       "        vertical-align: top;\n",
       "    }\n",
       "\n",
       "    .dataframe thead th {\n",
       "        text-align: right;\n",
       "    }\n",
       "<\/style>\n",
       "<table border=\"1\" class=\"dataframe\">\n",
       "  <thead>\n",
       "    <tr style=\"text-align: right;\">\n",
       "      <th><\/th>\n",
       "      <th>Company<\/th>\n",
       "      <th>Purchase Price<\/th>\n",
       "    <\/tr>\n",
       "  <\/thead>\n",
       "  <tbody>\n",
       "    <tr>\n",
       "      <th>513<\/th>\n",
       "      <td>Bright PLC<\/td>\n",
       "      <td>75.1<\/td>\n",
       "    <\/tr>\n",
       "  <\/tbody>\n",
       "<\/table>\n",
       "<\/div>"
      ]
     },
     "metadata":{
      
     },
     "output_type":"display_data"
    }
   ],
   "metadata":{
    "datalore":{
     "node_id":"guBZYExu9O38WcPDh4WP3Q",
     "type":"CODE",
     "hide_input_from_viewers":false,
     "hide_output_from_viewers":false,
     "report_properties":{
      "rowId":"KBjb6wzt7iuOYPjBYGWa0Z"
     }
    }
   }
  },
  {
   "cell_type":"markdown",
   "source":[
    "Яка електронна адреса особи з таким номером кредитної картки: 4926535242672853 ?"
   ],
   "attachments":{
    
   },
   "metadata":{
    "datalore":{
     "node_id":"0SlTAwImQJZJz1e2gl5lnd",
     "type":"MD",
     "hide_input_from_viewers":false,
     "hide_output_from_viewers":false,
     "report_properties":{
      "rowId":"f1j6jLfasbbYlz2j2Zfc9T"
     }
    }
   }
  },
  {
   "cell_type":"code",
   "source":[
    "df[df['Credit Card'] == 4926535242672853]['Email'].values[0]"
   ],
   "execution_count":289,
   "outputs":[
    {
     "data":{
      "text\/plain":[
       "'bondellen@williams-garza.com'"
      ]
     },
     "metadata":{
      
     },
     "output_type":"display_data"
    }
   ],
   "metadata":{
    "datalore":{
     "node_id":"SDfwXZlF6bVVrpydLK98Wq",
     "type":"CODE",
     "hide_input_from_viewers":false,
     "hide_output_from_viewers":false,
     "report_properties":{
      "rowId":"PDiVUz3iyLpGyT6WDwvHI7"
     }
    }
   }
  },
  {
   "cell_type":"markdown",
   "source":[
    "Скільки людей використовує American Express  і здійснили покупку на суму понад 100 доларів?"
   ],
   "attachments":{
    
   },
   "metadata":{
    "datalore":{
     "node_id":"QhpB2X6dkY85T4aVW8qfZL",
     "type":"MD",
     "hide_input_from_viewers":false,
     "hide_output_from_viewers":false,
     "report_properties":{
      "rowId":"YRuLZxfLtPwuQlg73XVU0E"
     }
    }
   }
  },
  {
   "cell_type":"code",
   "source":[
    "amount = df[(df['CC Provider'] == 'American Express') & (df['Purchase Price'] > 100.0)]['Purchase Price'].count()\n",
    "print('Amount of customers with CC Provider `American Express` who purchased on more than 100 dollars: ', amount)"
   ],
   "execution_count":227,
   "outputs":[
    {
     "name":"stdout",
     "text":[
      "Amount of customers with CC Provider `American Express` who purchased on more than 100 dollars:  0\n"
     ],
     "output_type":"stream"
    }
   ],
   "metadata":{
    "datalore":{
     "node_id":"yrSBzOx1sCQ2U7sQPyVK9J",
     "type":"CODE",
     "hide_input_from_viewers":false,
     "hide_output_from_viewers":false,
     "report_properties":{
      "rowId":"faUYVUCYyiT9MgGNl2Bop6"
     }
    }
   }
  },
  {
   "cell_type":"markdown",
   "source":[
    "Скільки людей мають кредитну картку, термін дії якої закінчується в 2025 році?"
   ],
   "attachments":{
    
   },
   "metadata":{
    "datalore":{
     "node_id":"4JBjGWsj8VRjZEZ9h315hH",
     "type":"MD",
     "hide_input_from_viewers":false,
     "hide_output_from_viewers":false,
     "report_properties":{
      "rowId":"KFIgME4rKTJqVnDPIYy3NZ"
     }
    }
   }
  },
  {
   "cell_type":"code",
   "source":[
    "qnty = df[df['CC Exp Date'].str.contains('\/25')]['CC Exp Date'].count()\n",
    "\n",
    "print(\"Amount of customers with credit cards expiring in 2025:\", qnty)"
   ],
   "execution_count":228,
   "outputs":[
    {
     "name":"stdout",
     "text":[
      "Amount of customers with credit cards expiring in 2025: 1033\n"
     ],
     "output_type":"stream"
    }
   ],
   "metadata":{
    "datalore":{
     "node_id":"Yf7QqUhUjt0hbwgIJtRsPc",
     "type":"CODE",
     "hide_input_from_viewers":false,
     "hide_output_from_viewers":false,
     "report_properties":{
      "rowId":"KtudQgcBTyc2wQkoYEV4Jo"
     }
    }
   }
  },
  {
   "cell_type":"markdown",
   "source":[
    "Які найкращі 5 найпопулярніших постачальників \/ хостів електронної пошти (наприклад, gmail.com, yahoo.com тощо ...)."
   ],
   "attachments":{
    
   },
   "metadata":{
    "datalore":{
     "node_id":"UBc12tDUP8zvehhI4908w7",
     "type":"MD",
     "hide_input_from_viewers":false,
     "hide_output_from_viewers":false,
     "report_properties":{
      "rowId":"Xps1vuXrfyaKNU74T7jPcf"
     }
    }
   }
  },
  {
   "cell_type":"code",
   "source":[
    "def splitmail(provider):\n",
    "    provider = provider.split('@')[1]\n",
    "    return provider\n",
    "\n",
    "df['Email'] = df['Email'].map(splitmail)\n",
    "df['Email'].value_counts()[:5]"
   ],
   "execution_count":231,
   "outputs":[
    {
     "data":{
      "text\/html":[
       "<pre>hotmail.com     1638\n",
       "yahoo.com       1616\n",
       "gmail.com       1605\n",
       "smith.com         42\n",
       "williams.com      37\n",
       "Name: Email, dtype: int64<\/pre>"
      ]
     },
     "metadata":{
      
     },
     "output_type":"display_data"
    }
   ],
   "metadata":{
    "datalore":{
     "node_id":"9D2e9B6PaMxX8cLpyqbtGx",
     "type":"CODE",
     "hide_input_from_viewers":false,
     "hide_output_from_viewers":false,
     "report_properties":{
      "rowId":"LwDoVGYPZaTHB4j3B2LYRi"
     }
    }
   }
  },
  {
   "cell_type":"markdown",
   "source":[
    "Виведіть зведену таблицю по браузерах(Browser Info), посаді(Job), та кількості транзакцій :"
   ],
   "attachments":{
    
   },
   "metadata":{
    "datalore":{
     "node_id":"Fwrjh68PV0NL6rCJUbPZQW",
     "type":"MD",
     "hide_input_from_viewers":false,
     "hide_output_from_viewers":false,
     "report_properties":{
      "rowId":"PxQohb6aUx0GilEaeibfB9"
     }
    }
   }
  },
  {
   "cell_type":"code",
   "source":[
    "df_grouped = df.groupby(['Browser Info', 'Job'], sort=True)['Lot'].count()\n",
    "df_grouped.sort_values(ascending = False, inplace=True)\n",
    "df_grouped"
   ],
   "execution_count":28,
   "outputs":[
    {
     "data":{
      "text\/html":[
       "<pre>Browser Info                                                                               Job                                  \n",
       "Mozilla\/5.0 (compatible; MSIE 7.0; Windows NT 6.0; Trident\/3.0)                            Special educational needs teacher        2\n",
       "Mozilla\/5.0 (compatible; MSIE 5.0; Windows 98; Trident\/4.1)                                Industrial buyer                         2\n",
       "Mozilla\/5.0 (compatible; MSIE 8.0; Windows NT 5.0; Trident\/4.0)                            Research officer, political party        2\n",
       "Mozilla\/5.0 (compatible; MSIE 8.0; Windows NT 5.0; Trident\/3.0)                            Engineer, land                           2\n",
       "Mozilla\/5.0 (compatible; MSIE 6.0; Windows NT 6.0; Trident\/4.1)                            Emergency planning\/management officer    2\n",
       "                                                                                                                                   ..\n",
       "Mozilla\/5.0 (Windows NT 6.2; sl-SI; rv:1.9.0.20) Gecko\/2011-10-22 03:49:39 Firefox\/3.6.2   Teacher, secondary school                1\n",
       "Mozilla\/5.0 (Windows NT 6.2; sl-SI; rv:1.9.0.20) Gecko\/2012-05-10 08:38:54 Firefox\/3.8     Cabin crew                               1\n",
       "Mozilla\/5.0 (Windows NT 6.2; sl-SI; rv:1.9.0.20) Gecko\/2013-10-07 10:27:30 Firefox\/3.6.17  Biomedical scientist                     1\n",
       "Mozilla\/5.0 (Windows NT 6.2; sl-SI; rv:1.9.0.20) Gecko\/2014-10-28 04:57:44 Firefox\/3.8     Advertising copywriter                   1\n",
       "Opera\/9.99.(X11; Linux x86_64; it-IT) Presto\/2.9.190 Version\/11.00                         Scientist, forensic                      1\n",
       "Name: Lot, Length: 9989, dtype: int64<\/pre>"
      ]
     },
     "metadata":{
      
     },
     "output_type":"display_data"
    }
   ],
   "metadata":{
    "datalore":{
     "node_id":"Or01k2n5PtvbDbcYGrktYK",
     "type":"CODE",
     "hide_input_from_viewers":false,
     "hide_output_from_viewers":false,
     "report_properties":{
      "rowId":"270YbbaJCkI9NMs2bYOIu7"
     }
    }
   }
  },
  {
   "cell_type":"markdown",
   "source":[
    "Створіть нову колонку \"Actual price\", яка утворюється із \"Purchase Price\" та націнки за принципом:\n",
    "- якщо \"Purchase Price\" > 50, націнка 20%\n",
    "- якщо \"Purchase Price\" > 100, націнка 10%\n",
    "- в інших випадках націнка 30%\n",
    "   "
   ],
   "attachments":{
    
   },
   "metadata":{
    "datalore":{
     "node_id":"j7dRTUstoOHHlbLjKARZp3",
     "type":"MD",
     "hide_input_from_viewers":false,
     "hide_output_from_viewers":false,
     "report_properties":{
      "rowId":"PKZQb74ABcD3OfEni94UoQ"
     }
    }
   }
  },
  {
   "cell_type":"code",
   "source":[
    "def actualprice(price):\n",
    "    if price > 50:\n",
    "        new_price = price * 1.2\n",
    "    elif price > 100:\n",
    "        new_price = price * 1.1\n",
    "    else:\n",
    "        new_price = price * 1.3\n",
    "    return new_price\n",
    "\n",
    "df['Actual Price'] = df['Purchase Price'].map(actualprice)\n",
    "df.head()"
   ],
   "execution_count":329,
   "outputs":[
    {
     "data":{
      "text\/html":[
       "<div>\n",
       "<style scoped>\n",
       "    .dataframe tbody tr th:only-of-type {\n",
       "        vertical-align: middle;\n",
       "    }\n",
       "\n",
       "    .dataframe tbody tr th {\n",
       "        vertical-align: top;\n",
       "    }\n",
       "\n",
       "    .dataframe thead th {\n",
       "        text-align: right;\n",
       "    }\n",
       "<\/style>\n",
       "<table border=\"1\" class=\"dataframe\">\n",
       "  <thead>\n",
       "    <tr style=\"text-align: right;\">\n",
       "      <th><\/th>\n",
       "      <th>Address<\/th>\n",
       "      <th>Lot<\/th>\n",
       "      <th>AM or PM<\/th>\n",
       "      <th>Browser Info<\/th>\n",
       "      <th>Company<\/th>\n",
       "      <th>Credit Card<\/th>\n",
       "      <th>CC Exp Date<\/th>\n",
       "      <th>CC Security Code<\/th>\n",
       "      <th>CC Provider<\/th>\n",
       "      <th>Email<\/th>\n",
       "      <th>Job<\/th>\n",
       "      <th>IP Address<\/th>\n",
       "      <th>Language<\/th>\n",
       "      <th>Purchase Price<\/th>\n",
       "      <th>Actual Price<\/th>\n",
       "    <\/tr>\n",
       "  <\/thead>\n",
       "  <tbody>\n",
       "    <tr>\n",
       "      <th>0<\/th>\n",
       "      <td>16629 Pace Camp Apt. 448\\nAlexisborough, NE 77...<\/td>\n",
       "      <td>46 in<\/td>\n",
       "      <td>PM<\/td>\n",
       "      <td>Opera\/9.56.(X11; Linux x86_64; sl-SI) Presto\/2...<\/td>\n",
       "      <td>Martinez-Herman<\/td>\n",
       "      <td>6011929061123406<\/td>\n",
       "      <td>02\/20<\/td>\n",
       "      <td>900<\/td>\n",
       "      <td>JCB 16 digit<\/td>\n",
       "      <td>pdunlap@yahoo.com<\/td>\n",
       "      <td>Scientist, product\/process development<\/td>\n",
       "      <td>149.146.147.205<\/td>\n",
       "      <td>el<\/td>\n",
       "      <td>98.14<\/td>\n",
       "      <td>117.768<\/td>\n",
       "    <\/tr>\n",
       "    <tr>\n",
       "      <th>1<\/th>\n",
       "      <td>9374 Jasmine Spurs Suite 508\\nSouth John, TN 8...<\/td>\n",
       "      <td>28 rn<\/td>\n",
       "      <td>PM<\/td>\n",
       "      <td>Opera\/8.93.(Windows 98; Win 9x 4.90; en-US) Pr...<\/td>\n",
       "      <td>Fletcher, Richards and Whitaker<\/td>\n",
       "      <td>3337758169645356<\/td>\n",
       "      <td>11\/18<\/td>\n",
       "      <td>561<\/td>\n",
       "      <td>Mastercard<\/td>\n",
       "      <td>anthony41@reed.com<\/td>\n",
       "      <td>Drilling engineer<\/td>\n",
       "      <td>15.160.41.51<\/td>\n",
       "      <td>fr<\/td>\n",
       "      <td>70.73<\/td>\n",
       "      <td>84.876<\/td>\n",
       "    <\/tr>\n",
       "    <tr>\n",
       "      <th>2<\/th>\n",
       "      <td>Unit 0065 Box 5052\\nDPO AP 27450<\/td>\n",
       "      <td>94 vE<\/td>\n",
       "      <td>PM<\/td>\n",
       "      <td>Mozilla\/5.0 (compatible; MSIE 9.0; Windows NT ...<\/td>\n",
       "      <td>Simpson, Williams and Pham<\/td>\n",
       "      <td>675957666125<\/td>\n",
       "      <td>08\/19<\/td>\n",
       "      <td>699<\/td>\n",
       "      <td>JCB 16 digit<\/td>\n",
       "      <td>amymiller@morales-harrison.com<\/td>\n",
       "      <td>Customer service manager<\/td>\n",
       "      <td>132.207.160.22<\/td>\n",
       "      <td>de<\/td>\n",
       "      <td>0.95<\/td>\n",
       "      <td>1.235<\/td>\n",
       "    <\/tr>\n",
       "    <tr>\n",
       "      <th>3<\/th>\n",
       "      <td>7780 Julia Fords\\nNew Stacy, WA 45798<\/td>\n",
       "      <td>36 vm<\/td>\n",
       "      <td>PM<\/td>\n",
       "      <td>Mozilla\/5.0 (Macintosh; Intel Mac OS X 10_8_0 ...<\/td>\n",
       "      <td>Williams, Marshall and Buchanan<\/td>\n",
       "      <td>6011578504430710<\/td>\n",
       "      <td>02\/24<\/td>\n",
       "      <td>384<\/td>\n",
       "      <td>Discover<\/td>\n",
       "      <td>brent16@olson-robinson.info<\/td>\n",
       "      <td>Drilling engineer<\/td>\n",
       "      <td>30.250.74.19<\/td>\n",
       "      <td>es<\/td>\n",
       "      <td>78.04<\/td>\n",
       "      <td>93.648<\/td>\n",
       "    <\/tr>\n",
       "    <tr>\n",
       "      <th>4<\/th>\n",
       "      <td>23012 Munoz Drive Suite 337\\nNew Cynthia, TX 5...<\/td>\n",
       "      <td>20 IE<\/td>\n",
       "      <td>AM<\/td>\n",
       "      <td>Opera\/9.58.(X11; Linux x86_64; it-IT) Presto\/2...<\/td>\n",
       "      <td>Brown, Watson and Andrews<\/td>\n",
       "      <td>6011456623207998<\/td>\n",
       "      <td>10\/25<\/td>\n",
       "      <td>678<\/td>\n",
       "      <td>Diners Club \/ Carte Blanche<\/td>\n",
       "      <td>christopherwright@gmail.com<\/td>\n",
       "      <td>Fine artist<\/td>\n",
       "      <td>24.140.33.94<\/td>\n",
       "      <td>es<\/td>\n",
       "      <td>77.82<\/td>\n",
       "      <td>93.384<\/td>\n",
       "    <\/tr>\n",
       "  <\/tbody>\n",
       "<\/table>\n",
       "<\/div>"
      ]
     },
     "metadata":{
      
     },
     "output_type":"display_data"
    }
   ],
   "metadata":{
    "datalore":{
     "node_id":"dTk7j2GfmyWBIaqherrEfQ",
     "type":"CODE",
     "hide_input_from_viewers":false,
     "hide_output_from_viewers":false,
     "report_properties":{
      "rowId":"SU2IuWZqJs6LXsOdPRJsCy"
     }
    }
   }
  },
  {
   "cell_type":"markdown",
   "source":[
    "Зробіть рангування набору даних по \"Language\" та \"Actual price\" в порядку спадання ціни.\n",
    "\n",
    "https:\/\/pandas.pydata.org\/pandas-docs\/stable\/reference\/api\/pandas.DataFrame.rank.html"
   ],
   "attachments":{
    
   },
   "metadata":{
    "datalore":{
     "node_id":"piHCGGDPgRVJcjgngI6MDM",
     "type":"MD",
     "hide_input_from_viewers":false,
     "hide_output_from_viewers":false,
     "report_properties":{
      "rowId":"odGfypZzEp4xySeW1w6USM"
     }
    }
   }
  },
  {
   "cell_type":"code",
   "source":[
    "df_new = df.copy()\n",
    "df_new[['Rank Actual Price','Rank Language']] = df_new[['Actual Price','Language']].rank(ascending = False)\n",
    "df_new"
   ],
   "execution_count":332,
   "outputs":[
    {
     "data":{
      "text\/html":[
       "<div>\n",
       "<style scoped>\n",
       "    .dataframe tbody tr th:only-of-type {\n",
       "        vertical-align: middle;\n",
       "    }\n",
       "\n",
       "    .dataframe tbody tr th {\n",
       "        vertical-align: top;\n",
       "    }\n",
       "\n",
       "    .dataframe thead th {\n",
       "        text-align: right;\n",
       "    }\n",
       "<\/style>\n",
       "<table border=\"1\" class=\"dataframe\">\n",
       "  <thead>\n",
       "    <tr style=\"text-align: right;\">\n",
       "      <th><\/th>\n",
       "      <th>Address<\/th>\n",
       "      <th>Lot<\/th>\n",
       "      <th>AM or PM<\/th>\n",
       "      <th>Browser Info<\/th>\n",
       "      <th>Company<\/th>\n",
       "      <th>Credit Card<\/th>\n",
       "      <th>CC Exp Date<\/th>\n",
       "      <th>CC Security Code<\/th>\n",
       "      <th>CC Provider<\/th>\n",
       "      <th>Email<\/th>\n",
       "      <th>Job<\/th>\n",
       "      <th>IP Address<\/th>\n",
       "      <th>Language<\/th>\n",
       "      <th>Purchase Price<\/th>\n",
       "      <th>Actual Price<\/th>\n",
       "      <th>Rank Actual Price<\/th>\n",
       "      <th>Rank Language<\/th>\n",
       "    <\/tr>\n",
       "  <\/thead>\n",
       "  <tbody>\n",
       "    <tr>\n",
       "      <th>0<\/th>\n",
       "      <td>16629 Pace Camp Apt. 448\\nAlexisborough, NE 77...<\/td>\n",
       "      <td>46 in<\/td>\n",
       "      <td>PM<\/td>\n",
       "      <td>Opera\/9.56.(X11; Linux x86_64; sl-SI) Presto\/2...<\/td>\n",
       "      <td>Martinez-Herman<\/td>\n",
       "      <td>6011929061123406<\/td>\n",
       "      <td>02\/20<\/td>\n",
       "      <td>900<\/td>\n",
       "      <td>JCB 16 digit<\/td>\n",
       "      <td>pdunlap@yahoo.com<\/td>\n",
       "      <td>Scientist, product\/process development<\/td>\n",
       "      <td>149.146.147.205<\/td>\n",
       "      <td>el<\/td>\n",
       "      <td>98.14<\/td>\n",
       "      <td>117.768<\/td>\n",
       "      <td>191.0<\/td>\n",
       "      <td>8277.0<\/td>\n",
       "    <\/tr>\n",
       "    <tr>\n",
       "      <th>1<\/th>\n",
       "      <td>9374 Jasmine Spurs Suite 508\\nSouth John, TN 8...<\/td>\n",
       "      <td>28 rn<\/td>\n",
       "      <td>PM<\/td>\n",
       "      <td>Opera\/8.93.(Windows 98; Win 9x 4.90; en-US) Pr...<\/td>\n",
       "      <td>Fletcher, Richards and Whitaker<\/td>\n",
       "      <td>3337758169645356<\/td>\n",
       "      <td>11\/18<\/td>\n",
       "      <td>561<\/td>\n",
       "      <td>Mastercard<\/td>\n",
       "      <td>anthony41@reed.com<\/td>\n",
       "      <td>Drilling engineer<\/td>\n",
       "      <td>15.160.41.51<\/td>\n",
       "      <td>fr<\/td>\n",
       "      <td>70.73<\/td>\n",
       "      <td>84.876<\/td>\n",
       "      <td>2988.5<\/td>\n",
       "      <td>4967.0<\/td>\n",
       "    <\/tr>\n",
       "    <tr>\n",
       "      <th>2<\/th>\n",
       "      <td>Unit 0065 Box 5052\\nDPO AP 27450<\/td>\n",
       "      <td>94 vE<\/td>\n",
       "      <td>PM<\/td>\n",
       "      <td>Mozilla\/5.0 (compatible; MSIE 9.0; Windows NT ...<\/td>\n",
       "      <td>Simpson, Williams and Pham<\/td>\n",
       "      <td>675957666125<\/td>\n",
       "      <td>08\/19<\/td>\n",
       "      <td>699<\/td>\n",
       "      <td>JCB 16 digit<\/td>\n",
       "      <td>amymiller@morales-harrison.com<\/td>\n",
       "      <td>Customer service manager<\/td>\n",
       "      <td>132.207.160.22<\/td>\n",
       "      <td>de<\/td>\n",
       "      <td>0.95<\/td>\n",
       "      <td>1.235<\/td>\n",
       "      <td>9894.5<\/td>\n",
       "      <td>9423.0<\/td>\n",
       "    <\/tr>\n",
       "    <tr>\n",
       "      <th>3<\/th>\n",
       "      <td>7780 Julia Fords\\nNew Stacy, WA 45798<\/td>\n",
       "      <td>36 vm<\/td>\n",
       "      <td>PM<\/td>\n",
       "      <td>Mozilla\/5.0 (Macintosh; Intel Mac OS X 10_8_0 ...<\/td>\n",
       "      <td>Williams, Marshall and Buchanan<\/td>\n",
       "      <td>6011578504430710<\/td>\n",
       "      <td>02\/24<\/td>\n",
       "      <td>384<\/td>\n",
       "      <td>Discover<\/td>\n",
       "      <td>brent16@olson-robinson.info<\/td>\n",
       "      <td>Drilling engineer<\/td>\n",
       "      <td>30.250.74.19<\/td>\n",
       "      <td>es<\/td>\n",
       "      <td>78.04<\/td>\n",
       "      <td>93.648<\/td>\n",
       "      <td>2256.0<\/td>\n",
       "      <td>6063.0<\/td>\n",
       "    <\/tr>\n",
       "    <tr>\n",
       "      <th>4<\/th>\n",
       "      <td>23012 Munoz Drive Suite 337\\nNew Cynthia, TX 5...<\/td>\n",
       "      <td>20 IE<\/td>\n",
       "      <td>AM<\/td>\n",
       "      <td>Opera\/9.58.(X11; Linux x86_64; it-IT) Presto\/2...<\/td>\n",
       "      <td>Brown, Watson and Andrews<\/td>\n",
       "      <td>6011456623207998<\/td>\n",
       "      <td>10\/25<\/td>\n",
       "      <td>678<\/td>\n",
       "      <td>Diners Club \/ Carte Blanche<\/td>\n",
       "      <td>christopherwright@gmail.com<\/td>\n",
       "      <td>Fine artist<\/td>\n",
       "      <td>24.140.33.94<\/td>\n",
       "      <td>es<\/td>\n",
       "      <td>77.82<\/td>\n",
       "      <td>93.384<\/td>\n",
       "      <td>2279.5<\/td>\n",
       "      <td>6063.0<\/td>\n",
       "    <\/tr>\n",
       "    <tr>\n",
       "      <th>...<\/th>\n",
       "      <td>...<\/td>\n",
       "      <td>...<\/td>\n",
       "      <td>...<\/td>\n",
       "      <td>...<\/td>\n",
       "      <td>...<\/td>\n",
       "      <td>...<\/td>\n",
       "      <td>...<\/td>\n",
       "      <td>...<\/td>\n",
       "      <td>...<\/td>\n",
       "      <td>...<\/td>\n",
       "      <td>...<\/td>\n",
       "      <td>...<\/td>\n",
       "      <td>...<\/td>\n",
       "      <td>...<\/td>\n",
       "      <td>...<\/td>\n",
       "      <td>...<\/td>\n",
       "      <td>...<\/td>\n",
       "    <\/tr>\n",
       "    <tr>\n",
       "      <th>9995<\/th>\n",
       "      <td>966 Castaneda Locks\\nWest Juliafurt, CO 96415<\/td>\n",
       "      <td>92 XI<\/td>\n",
       "      <td>PM<\/td>\n",
       "      <td>Mozilla\/5.0 (Windows NT 5.1) AppleWebKit\/5352 ...<\/td>\n",
       "      <td>Randall-Sloan<\/td>\n",
       "      <td>342945015358701<\/td>\n",
       "      <td>03\/22<\/td>\n",
       "      <td>838<\/td>\n",
       "      <td>JCB 15 digit<\/td>\n",
       "      <td>iscott@wade-garner.com<\/td>\n",
       "      <td>Printmaker<\/td>\n",
       "      <td>29.73.197.114<\/td>\n",
       "      <td>it<\/td>\n",
       "      <td>82.21<\/td>\n",
       "      <td>98.652<\/td>\n",
       "      <td>1852.5<\/td>\n",
       "      <td>3875.5<\/td>\n",
       "    <\/tr>\n",
       "    <tr>\n",
       "      <th>9996<\/th>\n",
       "      <td>832 Curtis Dam Suite 785\\nNorth Edwardburgh, T...<\/td>\n",
       "      <td>41 JY<\/td>\n",
       "      <td>AM<\/td>\n",
       "      <td>Mozilla\/5.0 (compatible; MSIE 9.0; Windows NT ...<\/td>\n",
       "      <td>Hale, Collins and Wilson<\/td>\n",
       "      <td>210033169205009<\/td>\n",
       "      <td>07\/25<\/td>\n",
       "      <td>207<\/td>\n",
       "      <td>JCB 16 digit<\/td>\n",
       "      <td>mary85@hotmail.com<\/td>\n",
       "      <td>Energy engineer<\/td>\n",
       "      <td>121.133.168.51<\/td>\n",
       "      <td>pt<\/td>\n",
       "      <td>25.63<\/td>\n",
       "      <td>33.319<\/td>\n",
       "      <td>7450.0<\/td>\n",
       "      <td>2773.5<\/td>\n",
       "    <\/tr>\n",
       "    <tr>\n",
       "      <th>9997<\/th>\n",
       "      <td>Unit 4434 Box 6343\\nDPO AE 28026-0283<\/td>\n",
       "      <td>74 Zh<\/td>\n",
       "      <td>AM<\/td>\n",
       "      <td>Mozilla\/5.0 (Macintosh; U; Intel Mac OS X 10_7...<\/td>\n",
       "      <td>Anderson Ltd<\/td>\n",
       "      <td>6011539787356311<\/td>\n",
       "      <td>05\/21<\/td>\n",
       "      <td>1<\/td>\n",
       "      <td>VISA 16 digit<\/td>\n",
       "      <td>tyler16@gmail.com<\/td>\n",
       "      <td>Veterinary surgeon<\/td>\n",
       "      <td>156.210.0.254<\/td>\n",
       "      <td>el<\/td>\n",
       "      <td>83.98<\/td>\n",
       "      <td>100.776<\/td>\n",
       "      <td>1659.0<\/td>\n",
       "      <td>8277.0<\/td>\n",
       "    <\/tr>\n",
       "    <tr>\n",
       "      <th>9998<\/th>\n",
       "      <td>0096 English Rest\\nRoystad, IA 12457<\/td>\n",
       "      <td>74 cL<\/td>\n",
       "      <td>PM<\/td>\n",
       "      <td>Mozilla\/5.0 (Macintosh; Intel Mac OS X 10_8_8;...<\/td>\n",
       "      <td>Cook Inc<\/td>\n",
       "      <td>180003348082930<\/td>\n",
       "      <td>11\/17<\/td>\n",
       "      <td>987<\/td>\n",
       "      <td>American Express<\/td>\n",
       "      <td>elizabethmoore@reid.net<\/td>\n",
       "      <td>Local government officer<\/td>\n",
       "      <td>55.78.26.143<\/td>\n",
       "      <td>es<\/td>\n",
       "      <td>38.84<\/td>\n",
       "      <td>50.492<\/td>\n",
       "      <td>6126.0<\/td>\n",
       "      <td>6063.0<\/td>\n",
       "    <\/tr>\n",
       "    <tr>\n",
       "      <th>9999<\/th>\n",
       "      <td>40674 Barrett Stravenue\\nGrimesville, WI 79682<\/td>\n",
       "      <td>64 Hr<\/td>\n",
       "      <td>AM<\/td>\n",
       "      <td>Mozilla\/5.0 (X11; Linux i686; rv:1.9.5.20) Gec...<\/td>\n",
       "      <td>Greene Inc<\/td>\n",
       "      <td>4139972901927273<\/td>\n",
       "      <td>02\/19<\/td>\n",
       "      <td>302<\/td>\n",
       "      <td>JCB 15 digit<\/td>\n",
       "      <td>rachelford@vaughn.com<\/td>\n",
       "      <td>Embryologist, clinical<\/td>\n",
       "      <td>176.119.198.199<\/td>\n",
       "      <td>el<\/td>\n",
       "      <td>67.59<\/td>\n",
       "      <td>81.108<\/td>\n",
       "      <td>3294.0<\/td>\n",
       "      <td>8277.0<\/td>\n",
       "    <\/tr>\n",
       "  <\/tbody>\n",
       "<\/table>\n",
       "<p>10000 rows × 17 columns<\/p>\n",
       "<\/div>"
      ]
     },
     "metadata":{
      
     },
     "output_type":"display_data"
    }
   ],
   "metadata":{
    "datalore":{
     "node_id":"hHXkdcK0LRub6qnrNDIJLM",
     "type":"CODE",
     "hide_input_from_viewers":true,
     "hide_output_from_viewers":true
    }
   }
  },
  {
   "cell_type":"markdown",
   "source":[
    "Колонку \"Language\" (категоріальна змінна) \"закодуйте\", тобто утворити індикаторні колоник. В наборі не повинна залишитися колонка \"Language\".\n",
    "\n",
    "https:\/\/pandas.pydata.org\/pandas-docs\/stable\/reference\/api\/pandas.DataFrame.rank.html"
   ],
   "attachments":{
    
   },
   "metadata":{
    "datalore":{
     "node_id":"747xgQRSCpa0AWJFvnX99w",
     "type":"MD",
     "hide_input_from_viewers":false,
     "hide_output_from_viewers":false,
     "report_properties":{
      "rowId":"s5G4odRHaY8FCDPxLsTzEA"
     }
    }
   }
  },
  {
   "cell_type":"code",
   "source":[
    "df_new['Language'] = df_new['Language'].astype(\"category\")\n",
    "\n",
    "d = dict(enumerate(df_new['Language'].astype('category').cat.categories))\n",
    "print(\"The codes for the languages:\", d)"
   ],
   "execution_count":334,
   "outputs":[
    {
     "name":"stdout",
     "text":[
      "The codes for the languages: {0: 'de', 1: 'el', 2: 'en', 3: 'es', 4: 'fr', 5: 'it', 6: 'pt', 7: 'ru', 8: 'zh'}\n"
     ],
     "output_type":"stream"
    }
   ],
   "metadata":{
    "datalore":{
     "node_id":"780rvH1vBrtPJVHUbNQcBb",
     "type":"CODE",
     "hide_input_from_viewers":true,
     "hide_output_from_viewers":true
    }
   }
  },
  {
   "cell_type":"code",
   "source":[
    "df_new['Language'] = df_new['Language'].cat.codes\n",
    "\n",
    "\n",
    "df_new = df_new.rename(columns = {'Language':'Language Code'})\n",
    "df_new"
   ],
   "execution_count":335,
   "outputs":[
    {
     "data":{
      "text\/html":[
       "<div>\n",
       "<style scoped>\n",
       "    .dataframe tbody tr th:only-of-type {\n",
       "        vertical-align: middle;\n",
       "    }\n",
       "\n",
       "    .dataframe tbody tr th {\n",
       "        vertical-align: top;\n",
       "    }\n",
       "\n",
       "    .dataframe thead th {\n",
       "        text-align: right;\n",
       "    }\n",
       "<\/style>\n",
       "<table border=\"1\" class=\"dataframe\">\n",
       "  <thead>\n",
       "    <tr style=\"text-align: right;\">\n",
       "      <th><\/th>\n",
       "      <th>Address<\/th>\n",
       "      <th>Lot<\/th>\n",
       "      <th>AM or PM<\/th>\n",
       "      <th>Browser Info<\/th>\n",
       "      <th>Company<\/th>\n",
       "      <th>Credit Card<\/th>\n",
       "      <th>CC Exp Date<\/th>\n",
       "      <th>CC Security Code<\/th>\n",
       "      <th>CC Provider<\/th>\n",
       "      <th>Email<\/th>\n",
       "      <th>Job<\/th>\n",
       "      <th>IP Address<\/th>\n",
       "      <th>Language Code<\/th>\n",
       "      <th>Purchase Price<\/th>\n",
       "      <th>Actual Price<\/th>\n",
       "      <th>Rank Actual Price<\/th>\n",
       "      <th>Rank Language<\/th>\n",
       "    <\/tr>\n",
       "  <\/thead>\n",
       "  <tbody>\n",
       "    <tr>\n",
       "      <th>0<\/th>\n",
       "      <td>16629 Pace Camp Apt. 448\\nAlexisborough, NE 77...<\/td>\n",
       "      <td>46 in<\/td>\n",
       "      <td>PM<\/td>\n",
       "      <td>Opera\/9.56.(X11; Linux x86_64; sl-SI) Presto\/2...<\/td>\n",
       "      <td>Martinez-Herman<\/td>\n",
       "      <td>6011929061123406<\/td>\n",
       "      <td>02\/20<\/td>\n",
       "      <td>900<\/td>\n",
       "      <td>JCB 16 digit<\/td>\n",
       "      <td>pdunlap@yahoo.com<\/td>\n",
       "      <td>Scientist, product\/process development<\/td>\n",
       "      <td>149.146.147.205<\/td>\n",
       "      <td>1<\/td>\n",
       "      <td>98.14<\/td>\n",
       "      <td>117.768<\/td>\n",
       "      <td>191.0<\/td>\n",
       "      <td>8277.0<\/td>\n",
       "    <\/tr>\n",
       "    <tr>\n",
       "      <th>1<\/th>\n",
       "      <td>9374 Jasmine Spurs Suite 508\\nSouth John, TN 8...<\/td>\n",
       "      <td>28 rn<\/td>\n",
       "      <td>PM<\/td>\n",
       "      <td>Opera\/8.93.(Windows 98; Win 9x 4.90; en-US) Pr...<\/td>\n",
       "      <td>Fletcher, Richards and Whitaker<\/td>\n",
       "      <td>3337758169645356<\/td>\n",
       "      <td>11\/18<\/td>\n",
       "      <td>561<\/td>\n",
       "      <td>Mastercard<\/td>\n",
       "      <td>anthony41@reed.com<\/td>\n",
       "      <td>Drilling engineer<\/td>\n",
       "      <td>15.160.41.51<\/td>\n",
       "      <td>4<\/td>\n",
       "      <td>70.73<\/td>\n",
       "      <td>84.876<\/td>\n",
       "      <td>2988.5<\/td>\n",
       "      <td>4967.0<\/td>\n",
       "    <\/tr>\n",
       "    <tr>\n",
       "      <th>2<\/th>\n",
       "      <td>Unit 0065 Box 5052\\nDPO AP 27450<\/td>\n",
       "      <td>94 vE<\/td>\n",
       "      <td>PM<\/td>\n",
       "      <td>Mozilla\/5.0 (compatible; MSIE 9.0; Windows NT ...<\/td>\n",
       "      <td>Simpson, Williams and Pham<\/td>\n",
       "      <td>675957666125<\/td>\n",
       "      <td>08\/19<\/td>\n",
       "      <td>699<\/td>\n",
       "      <td>JCB 16 digit<\/td>\n",
       "      <td>amymiller@morales-harrison.com<\/td>\n",
       "      <td>Customer service manager<\/td>\n",
       "      <td>132.207.160.22<\/td>\n",
       "      <td>0<\/td>\n",
       "      <td>0.95<\/td>\n",
       "      <td>1.235<\/td>\n",
       "      <td>9894.5<\/td>\n",
       "      <td>9423.0<\/td>\n",
       "    <\/tr>\n",
       "    <tr>\n",
       "      <th>3<\/th>\n",
       "      <td>7780 Julia Fords\\nNew Stacy, WA 45798<\/td>\n",
       "      <td>36 vm<\/td>\n",
       "      <td>PM<\/td>\n",
       "      <td>Mozilla\/5.0 (Macintosh; Intel Mac OS X 10_8_0 ...<\/td>\n",
       "      <td>Williams, Marshall and Buchanan<\/td>\n",
       "      <td>6011578504430710<\/td>\n",
       "      <td>02\/24<\/td>\n",
       "      <td>384<\/td>\n",
       "      <td>Discover<\/td>\n",
       "      <td>brent16@olson-robinson.info<\/td>\n",
       "      <td>Drilling engineer<\/td>\n",
       "      <td>30.250.74.19<\/td>\n",
       "      <td>3<\/td>\n",
       "      <td>78.04<\/td>\n",
       "      <td>93.648<\/td>\n",
       "      <td>2256.0<\/td>\n",
       "      <td>6063.0<\/td>\n",
       "    <\/tr>\n",
       "    <tr>\n",
       "      <th>4<\/th>\n",
       "      <td>23012 Munoz Drive Suite 337\\nNew Cynthia, TX 5...<\/td>\n",
       "      <td>20 IE<\/td>\n",
       "      <td>AM<\/td>\n",
       "      <td>Opera\/9.58.(X11; Linux x86_64; it-IT) Presto\/2...<\/td>\n",
       "      <td>Brown, Watson and Andrews<\/td>\n",
       "      <td>6011456623207998<\/td>\n",
       "      <td>10\/25<\/td>\n",
       "      <td>678<\/td>\n",
       "      <td>Diners Club \/ Carte Blanche<\/td>\n",
       "      <td>christopherwright@gmail.com<\/td>\n",
       "      <td>Fine artist<\/td>\n",
       "      <td>24.140.33.94<\/td>\n",
       "      <td>3<\/td>\n",
       "      <td>77.82<\/td>\n",
       "      <td>93.384<\/td>\n",
       "      <td>2279.5<\/td>\n",
       "      <td>6063.0<\/td>\n",
       "    <\/tr>\n",
       "    <tr>\n",
       "      <th>...<\/th>\n",
       "      <td>...<\/td>\n",
       "      <td>...<\/td>\n",
       "      <td>...<\/td>\n",
       "      <td>...<\/td>\n",
       "      <td>...<\/td>\n",
       "      <td>...<\/td>\n",
       "      <td>...<\/td>\n",
       "      <td>...<\/td>\n",
       "      <td>...<\/td>\n",
       "      <td>...<\/td>\n",
       "      <td>...<\/td>\n",
       "      <td>...<\/td>\n",
       "      <td>...<\/td>\n",
       "      <td>...<\/td>\n",
       "      <td>...<\/td>\n",
       "      <td>...<\/td>\n",
       "      <td>...<\/td>\n",
       "    <\/tr>\n",
       "    <tr>\n",
       "      <th>9995<\/th>\n",
       "      <td>966 Castaneda Locks\\nWest Juliafurt, CO 96415<\/td>\n",
       "      <td>92 XI<\/td>\n",
       "      <td>PM<\/td>\n",
       "      <td>Mozilla\/5.0 (Windows NT 5.1) AppleWebKit\/5352 ...<\/td>\n",
       "      <td>Randall-Sloan<\/td>\n",
       "      <td>342945015358701<\/td>\n",
       "      <td>03\/22<\/td>\n",
       "      <td>838<\/td>\n",
       "      <td>JCB 15 digit<\/td>\n",
       "      <td>iscott@wade-garner.com<\/td>\n",
       "      <td>Printmaker<\/td>\n",
       "      <td>29.73.197.114<\/td>\n",
       "      <td>5<\/td>\n",
       "      <td>82.21<\/td>\n",
       "      <td>98.652<\/td>\n",
       "      <td>1852.5<\/td>\n",
       "      <td>3875.5<\/td>\n",
       "    <\/tr>\n",
       "    <tr>\n",
       "      <th>9996<\/th>\n",
       "      <td>832 Curtis Dam Suite 785\\nNorth Edwardburgh, T...<\/td>\n",
       "      <td>41 JY<\/td>\n",
       "      <td>AM<\/td>\n",
       "      <td>Mozilla\/5.0 (compatible; MSIE 9.0; Windows NT ...<\/td>\n",
       "      <td>Hale, Collins and Wilson<\/td>\n",
       "      <td>210033169205009<\/td>\n",
       "      <td>07\/25<\/td>\n",
       "      <td>207<\/td>\n",
       "      <td>JCB 16 digit<\/td>\n",
       "      <td>mary85@hotmail.com<\/td>\n",
       "      <td>Energy engineer<\/td>\n",
       "      <td>121.133.168.51<\/td>\n",
       "      <td>6<\/td>\n",
       "      <td>25.63<\/td>\n",
       "      <td>33.319<\/td>\n",
       "      <td>7450.0<\/td>\n",
       "      <td>2773.5<\/td>\n",
       "    <\/tr>\n",
       "    <tr>\n",
       "      <th>9997<\/th>\n",
       "      <td>Unit 4434 Box 6343\\nDPO AE 28026-0283<\/td>\n",
       "      <td>74 Zh<\/td>\n",
       "      <td>AM<\/td>\n",
       "      <td>Mozilla\/5.0 (Macintosh; U; Intel Mac OS X 10_7...<\/td>\n",
       "      <td>Anderson Ltd<\/td>\n",
       "      <td>6011539787356311<\/td>\n",
       "      <td>05\/21<\/td>\n",
       "      <td>1<\/td>\n",
       "      <td>VISA 16 digit<\/td>\n",
       "      <td>tyler16@gmail.com<\/td>\n",
       "      <td>Veterinary surgeon<\/td>\n",
       "      <td>156.210.0.254<\/td>\n",
       "      <td>1<\/td>\n",
       "      <td>83.98<\/td>\n",
       "      <td>100.776<\/td>\n",
       "      <td>1659.0<\/td>\n",
       "      <td>8277.0<\/td>\n",
       "    <\/tr>\n",
       "    <tr>\n",
       "      <th>9998<\/th>\n",
       "      <td>0096 English Rest\\nRoystad, IA 12457<\/td>\n",
       "      <td>74 cL<\/td>\n",
       "      <td>PM<\/td>\n",
       "      <td>Mozilla\/5.0 (Macintosh; Intel Mac OS X 10_8_8;...<\/td>\n",
       "      <td>Cook Inc<\/td>\n",
       "      <td>180003348082930<\/td>\n",
       "      <td>11\/17<\/td>\n",
       "      <td>987<\/td>\n",
       "      <td>American Express<\/td>\n",
       "      <td>elizabethmoore@reid.net<\/td>\n",
       "      <td>Local government officer<\/td>\n",
       "      <td>55.78.26.143<\/td>\n",
       "      <td>3<\/td>\n",
       "      <td>38.84<\/td>\n",
       "      <td>50.492<\/td>\n",
       "      <td>6126.0<\/td>\n",
       "      <td>6063.0<\/td>\n",
       "    <\/tr>\n",
       "    <tr>\n",
       "      <th>9999<\/th>\n",
       "      <td>40674 Barrett Stravenue\\nGrimesville, WI 79682<\/td>\n",
       "      <td>64 Hr<\/td>\n",
       "      <td>AM<\/td>\n",
       "      <td>Mozilla\/5.0 (X11; Linux i686; rv:1.9.5.20) Gec...<\/td>\n",
       "      <td>Greene Inc<\/td>\n",
       "      <td>4139972901927273<\/td>\n",
       "      <td>02\/19<\/td>\n",
       "      <td>302<\/td>\n",
       "      <td>JCB 15 digit<\/td>\n",
       "      <td>rachelford@vaughn.com<\/td>\n",
       "      <td>Embryologist, clinical<\/td>\n",
       "      <td>176.119.198.199<\/td>\n",
       "      <td>1<\/td>\n",
       "      <td>67.59<\/td>\n",
       "      <td>81.108<\/td>\n",
       "      <td>3294.0<\/td>\n",
       "      <td>8277.0<\/td>\n",
       "    <\/tr>\n",
       "  <\/tbody>\n",
       "<\/table>\n",
       "<p>10000 rows × 17 columns<\/p>\n",
       "<\/div>"
      ]
     },
     "metadata":{
      
     },
     "output_type":"display_data"
    }
   ],
   "metadata":{
    "datalore":{
     "node_id":"hw0zs8TF21dcX1025KY9M1",
     "type":"CODE",
     "hide_input_from_viewers":true,
     "hide_output_from_viewers":true
    }
   }
  },
  {
   "cell_type":"markdown",
   "source":[
    "Кінцевий набір даних збережіть у файл з розширенням csv."
   ],
   "attachments":{
    
   },
   "metadata":{
    "datalore":{
     "node_id":"deD2jV0qo6e1LozZ8XzyUB",
     "type":"MD",
     "hide_input_from_viewers":false,
     "hide_output_from_viewers":false,
     "report_properties":{
      "rowId":"zOeWhKAabTf9338GSFyS6N"
     }
    }
   }
  },
  {
   "cell_type":"code",
   "source":[
    "\n",
    "df_new.to_csv(\"Ecommerce Purchases Encoded Languages Ranks.csv\")"
   ],
   "execution_count":337,
   "outputs":[
    
   ],
   "metadata":{
    "datalore":{
     "node_id":"lgD8dnN19oIZLqDULo2wSg",
     "type":"CODE",
     "hide_input_from_viewers":false,
     "hide_output_from_viewers":false,
     "report_properties":{
      "rowId":"s15wu0j6OhyMFxEWa6LSMr"
     }
    }
   }
  }
 ],
 "metadata":{
  "kernelspec":{
   "display_name":"Python",
   "language":"python",
   "name":"python"
  },
  "datalore":{
   "computation_mode":"JUPYTER",
   "package_manager":"pip",
   "base_environment":"default",
   "packages":[
    
   ],
   "report_row_ids":[
    "TuqaLZmABLU6cFLYxv90VD",
    "JoLo6s293hRlKMq2mpNPoL",
    "HV0f7cMBcCvBAwpSl0mYKF",
    "BULLNjL7pFvYIQl6xQ3Ery",
    "lFJo1zbSBlRedwymDxylN5",
    "ntahuj1SwOQQ31y13WArdC",
    "6rFmApWo5OPyhTbQnCbvCZ",
    "d7dzUIlhENQhsvjB2ncdvJ",
    "wYK07zy2ktSMLWRDUUZnmS",
    "5FRWtBWAJrjGhugr0Pb0LZ",
    "cXJi6VGh3F99vrwlE6tn85",
    "kB9u9ZNMcWwPdf6mFVNIZZ",
    "Jq6IsdPCUDIkLtJeUpBuzX",
    "9RmOICSVhU1qCPMPu5XR6h",
    "B0Es0kzBGh3JQpuRhTcQep",
    "TAlJieYr2lCOkckH9tYl9V",
    "ADJZPjax0NogOA6oYA6AQa",
    "6Hn6orYaRpFoVEbdGqA26c",
    "geoXJgvziLypWZF7bo9JPi",
    "1Di4Jd4mDaAXIEM0iKOxCy",
    "mCIQ1biSqAqm0MHO9UEkQ6",
    "UZsQsJtljPR4kxkj2VA9BZ",
    "m22cFOwAQZnT99l030jo1K",
    "KBjb6wzt7iuOYPjBYGWa0Z",
    "f1j6jLfasbbYlz2j2Zfc9T",
    "PDiVUz3iyLpGyT6WDwvHI7",
    "YRuLZxfLtPwuQlg73XVU0E",
    "faUYVUCYyiT9MgGNl2Bop6",
    "KFIgME4rKTJqVnDPIYy3NZ",
    "KtudQgcBTyc2wQkoYEV4Jo",
    "Xps1vuXrfyaKNU74T7jPcf",
    "LwDoVGYPZaTHB4j3B2LYRi",
    "PxQohb6aUx0GilEaeibfB9",
    "270YbbaJCkI9NMs2bYOIu7",
    "PKZQb74ABcD3OfEni94UoQ",
    "SU2IuWZqJs6LXsOdPRJsCy",
    "odGfypZzEp4xySeW1w6USM",
    "JaokWuPanFb49Nvd3UyNZ9",
    "s5G4odRHaY8FCDPxLsTzEA",
    "c3YQSok2VsCy8nYSFRE72k",
    "zOeWhKAabTf9338GSFyS6N",
    "s15wu0j6OhyMFxEWa6LSMr"
   ],
   "version":2
  }
 },
 "nbformat":4,
 "nbformat_minor":4
}