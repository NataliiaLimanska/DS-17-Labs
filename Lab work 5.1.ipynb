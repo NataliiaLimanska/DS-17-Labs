{
 "cells":[
  {
   "cell_type":"markdown",
   "source":[
    "___\n",
    "\n",
    "<a href='https:\/\/mainacademy.ua\/'> <img src='https:\/\/mainacademy.ua\/wp-content\/uploads\/2019\/03\/logo-main.png' alt = 'Хмм, щось з інтернетом'\/><\/a>\n",
    "___\n",
    "\n",
    "# Module 5: Data analysis with NumPy and Pandas"
   ],
   "attachments":{
    
   },
   "metadata":{
    "datalore":{
     "node_id":"7WjprH0sUn08YxZapWLCTY",
     "type":"MD",
     "hide_input_from_viewers":false,
     "hide_output_from_viewers":false,
     "report_properties":{
      "rowId":"8TSTK1IoOCUtp2VEs7NOx1"
     }
    }
   }
  },
  {
   "cell_type":"markdown",
   "source":[
    "## Lab work 5.1\n"
   ],
   "attachments":{
    
   },
   "metadata":{
    "datalore":{
     "node_id":"AQn8k8GaZgvvjTewHAqi8s",
     "type":"MD",
     "hide_input_from_viewers":false,
     "hide_output_from_viewers":false,
     "report_properties":{
      "rowId":"jClf6i0PAYXHRV4XpeaXtE"
     }
    }
   }
  },
  {
   "cell_type":"markdown",
   "source":[
    "#### Мета: \n",
    "\n",
    "* навчитися працювати із бібліотекою NumPy в Python"
   ],
   "attachments":{
    
   },
   "metadata":{
    "datalore":{
     "node_id":"QPcBYJpwvaJP797ulpHCp1",
     "type":"MD",
     "hide_input_from_viewers":false,
     "hide_output_from_viewers":false,
     "report_properties":{
      "rowId":"EJtRtTARtCxfwJLBApeVza"
     }
    }
   }
  },
  {
   "cell_type":"markdown",
   "source":[
    "### Завдання:"
   ],
   "attachments":{
    
   },
   "metadata":{
    "datalore":{
     "node_id":"B2LSjbXX02E4WyuUienTpF",
     "type":"MD",
     "hide_input_from_viewers":false,
     "hide_output_from_viewers":false,
     "report_properties":{
      "rowId":"dgQxiJ6HUz5bco0YneVsDl"
     }
    }
   }
  },
  {
   "cell_type":"code",
   "source":[
    "import numpy as np"
   ],
   "execution_count":67,
   "outputs":[
    
   ],
   "metadata":{
    "datalore":{
     "node_id":"Re4P0FVVjeg3JMp2en7IkL",
     "type":"CODE",
     "hide_input_from_viewers":false,
     "hide_output_from_viewers":false,
     "report_properties":{
      "rowId":"M6n2nS6oaj3prr0VUIcbLt"
     }
    }
   }
  },
  {
   "cell_type":"markdown",
   "source":[
    "Вивести версію та конфігурацію бібліотеки:"
   ],
   "attachments":{
    
   },
   "metadata":{
    "datalore":{
     "node_id":"FYIpKUEQbOZUwlKSLXMpax",
     "type":"MD",
     "hide_input_from_viewers":false,
     "hide_output_from_viewers":false,
     "report_properties":{
      "rowId":"VYdLCO3so19c5XrhNnBXQH"
     }
    }
   }
  },
  {
   "cell_type":"code",
   "source":[
    "\n",
    "print(\"Version:\", np.__version__)"
   ],
   "execution_count":153,
   "outputs":[
    {
     "name":"stdout",
     "text":[
      "Version: 1.23.5\n"
     ],
     "output_type":"stream"
    }
   ],
   "metadata":{
    "datalore":{
     "node_id":"JvZxYm4xSvZNwmEiCDgMS9",
     "type":"CODE",
     "hide_input_from_viewers":false,
     "hide_output_from_viewers":false,
     "report_properties":{
      "rowId":"BG1ONO4855dAVsPWobpMfW"
     }
    }
   }
  },
  {
   "cell_type":"code",
   "source":[
    "print(np.show_config())"
   ],
   "execution_count":158,
   "outputs":[
    {
     "name":"stdout",
     "text":[
      "openblas64__info:\n",
      "    libraries = ['openblas64_', 'openblas64_']\n",
      "    library_dirs = ['\/usr\/local\/lib']\n",
      "    language = c\n",
      "    define_macros = [('HAVE_CBLAS', None), ('BLAS_SYMBOL_SUFFIX', '64_'), ('HAVE_BLAS_ILP64', None)]\n",
      "    runtime_library_dirs = ['\/usr\/local\/lib']\n",
      "blas_ilp64_opt_info:\n",
      "    libraries = ['openblas64_', 'openblas64_']\n",
      "    library_dirs = ['\/usr\/local\/lib']\n",
      "    language = c\n",
      "    define_macros = [('HAVE_CBLAS', None), ('BLAS_SYMBOL_SUFFIX', '64_'), ('HAVE_BLAS_ILP64', None)]\n",
      "    runtime_library_dirs = ['\/usr\/local\/lib']\n",
      "openblas64__lapack_info:\n",
      "    libraries = ['openblas64_', 'openblas64_']\n",
      "    library_dirs = ['\/usr\/local\/lib']\n",
      "    language = c\n",
      "    define_macros = [('HAVE_CBLAS', None), ('BLAS_SYMBOL_SUFFIX', '64_'), ('HAVE_BLAS_ILP64', None), ('HAVE_LAPACKE', None)]\n",
      "    runtime_library_dirs = ['\/usr\/local\/lib']\n",
      "lapack_ilp64_opt_info:\n",
      "    libraries = ['openblas64_', 'openblas64_']\n",
      "    library_dirs = ['\/usr\/local\/lib']\n",
      "    language = c\n",
      "    define_macros = [('HAVE_CBLAS', None), ('BLAS_SYMBOL_SUFFIX', '64_'), ('HAVE_BLAS_ILP64', None), ('HAVE_LAPACKE', None)]\n",
      "    runtime_library_dirs = ['\/usr\/local\/lib']\n",
      "Supported SIMD extensions in this NumPy install:\n",
      "    baseline = SSE,SSE2,SSE3\n",
      "    found = SSSE3,SSE41,POPCNT,SSE42,AVX,F16C,FMA3,AVX2\n",
      "    not found = AVX512F,AVX512CD,AVX512_KNL,AVX512_KNM,AVX512_SKX,AVX512_CLX,AVX512_CNL,AVX512_ICL\n",
      "None\n"
     ],
     "output_type":"stream"
    }
   ],
   "metadata":{
    "datalore":{
     "node_id":"Y2NJZ1HlwysopAhRoN9FGg",
     "type":"CODE",
     "hide_input_from_viewers":true,
     "hide_output_from_viewers":true
    }
   }
  },
  {
   "cell_type":"markdown",
   "source":[
    "Створити вектор з 10 елементів, заповнений одиницями:"
   ],
   "attachments":{
    
   },
   "metadata":{
    "datalore":{
     "node_id":"9C3blpe0ujhT0guUIGjl5b",
     "type":"MD",
     "hide_input_from_viewers":false,
     "hide_output_from_viewers":false,
     "report_properties":{
      "rowId":"z5OBQgsjiAe9HwQiSa7KDd"
     }
    }
   }
  },
  {
   "cell_type":"code",
   "source":[
    "v = np.ones(10)\n",
    "v"
   ],
   "execution_count":70,
   "outputs":[
    {
     "data":{
      "text\/html":[
       "<pre>array([1., 1., 1., 1., 1., 1., 1., 1., 1., 1.])<\/pre>"
      ]
     },
     "metadata":{
      
     },
     "output_type":"display_data"
    }
   ],
   "metadata":{
    "datalore":{
     "node_id":"VWctL9BGmz8kx2DPionTYB",
     "type":"CODE",
     "hide_input_from_viewers":false,
     "hide_output_from_viewers":false,
     "report_properties":{
      "rowId":"D2XYedROtNCbSJsAkoN0Gs"
     }
    }
   }
  },
  {
   "cell_type":"markdown",
   "source":[
    "Створити вектор із значеннями від 0 до 10:"
   ],
   "attachments":{
    
   },
   "metadata":{
    "datalore":{
     "node_id":"9Fs2B28GmBRY5v5NVadq0l",
     "type":"MD",
     "hide_input_from_viewers":false,
     "hide_output_from_viewers":false,
     "report_properties":{
      "rowId":"Li62p2O8iFM7ci3mhObGMv"
     }
    }
   }
  },
  {
   "cell_type":"code",
   "source":[
    "v = np.arange(0, 11)\n",
    "v"
   ],
   "execution_count":71,
   "outputs":[
    {
     "data":{
      "text\/html":[
       "<pre>array([ 0,  1,  2,  3,  4,  5,  6,  7,  8,  9, 10])<\/pre>"
      ]
     },
     "metadata":{
      
     },
     "output_type":"display_data"
    }
   ],
   "metadata":{
    "datalore":{
     "node_id":"oGOjnOm1pNTO4wxvMuVuJ7",
     "type":"CODE",
     "hide_input_from_viewers":false,
     "hide_output_from_viewers":false,
     "report_properties":{
      "rowId":"1WuSbEZVUAmfQJmmkM3POt"
     }
    }
   }
  },
  {
   "cell_type":"markdown",
   "source":[
    "Створити матрицю 5 на 5, заповнену нулями:"
   ],
   "attachments":{
    
   },
   "metadata":{
    "datalore":{
     "node_id":"iXbzo30nVhT4gRFzJrnT6O",
     "type":"MD",
     "hide_input_from_viewers":false,
     "hide_output_from_viewers":false,
     "report_properties":{
      "rowId":"zDBlVOotedn7hP3Xw20MkS"
     }
    }
   }
  },
  {
   "cell_type":"code",
   "source":[
    "m = np.zeros((5, 5))\n",
    "m"
   ],
   "execution_count":72,
   "outputs":[
    {
     "data":{
      "text\/html":[
       "<pre>array([[0., 0., 0., 0., 0.],\n",
       "       [0., 0., 0., 0., 0.],\n",
       "       [0., 0., 0., 0., 0.],\n",
       "       [0., 0., 0., 0., 0.],\n",
       "       [0., 0., 0., 0., 0.]])<\/pre>"
      ]
     },
     "metadata":{
      
     },
     "output_type":"display_data"
    }
   ],
   "metadata":{
    "datalore":{
     "node_id":"bmv3wCl90zOlIvva1DPfG8",
     "type":"CODE",
     "hide_input_from_viewers":false,
     "hide_output_from_viewers":false,
     "report_properties":{
      "rowId":"8pcIS3k21TwnKGmtVL9Tu2"
     }
    }
   }
  },
  {
   "cell_type":"markdown",
   "source":[
    "Заповнити вектор з 20 елементів випадковими цілими числами. Знайти індекси ненульових елементів:"
   ],
   "attachments":{
    
   },
   "metadata":{
    "datalore":{
     "node_id":"PCzhHXS9qxKtN0Q57TcjNw",
     "type":"MD",
     "hide_input_from_viewers":false,
     "hide_output_from_viewers":false,
     "report_properties":{
      "rowId":"tbl10HlzH7J3AYF7Wco4D2"
     }
    }
   }
  },
  {
   "cell_type":"code",
   "source":[
    "np.random.seed(42)\n",
    "v = np.random.randint(20, size = (1, 20))\n",
    "v"
   ],
   "execution_count":73,
   "outputs":[
    {
     "data":{
      "text\/html":[
       "<pre>array([[ 6, 19, 14, 10,  7,  6, 18, 10, 10,  3,  7,  2,  1, 11,  5,  1,\n",
       "         0, 11, 11, 16]])<\/pre>"
      ]
     },
     "metadata":{
      
     },
     "output_type":"display_data"
    }
   ],
   "metadata":{
    "datalore":{
     "node_id":"s9QMgiQ50pDdp9A6AjPD5i",
     "type":"CODE",
     "hide_input_from_viewers":false,
     "hide_output_from_viewers":false,
     "report_properties":{
      "rowId":"dPqlSwUGKFWlh2QChMz45G"
     }
    }
   }
  },
  {
   "cell_type":"code",
   "source":[
    "indices = np.nonzero(v)\n",
    "print(f\"Indices of non-zero elements are in this array:\\n {indices}\")"
   ],
   "execution_count":74,
   "outputs":[
    {
     "name":"stdout",
     "text":[
      "Indices of non-zero elements are in this array:\n",
      " (array([0, 0, 0, 0, 0, 0, 0, 0, 0, 0, 0, 0, 0, 0, 0, 0, 0, 0, 0]), array([ 0,  1,  2,  3,  4,  5,  6,  7,  8,  9, 10, 11, 12, 13, 14, 15, 17,\n",
      "       18, 19]))\n"
     ],
     "output_type":"stream"
    }
   ],
   "metadata":{
    "datalore":{
     "node_id":"1opVWhcbgOQLJpNy4FVirb",
     "type":"CODE",
     "hide_input_from_viewers":true,
     "hide_output_from_viewers":true
    }
   }
  },
  {
   "cell_type":"markdown",
   "source":[
    "Для вектора із попередньої задачі знайти середнє значення, медіану, стандартне відхилення:"
   ],
   "attachments":{
    
   },
   "metadata":{
    "datalore":{
     "node_id":"Myicxztx0LpGZb16uuTbgH",
     "type":"MD",
     "hide_input_from_viewers":false,
     "hide_output_from_viewers":false,
     "report_properties":{
      "rowId":"Uh6qQ6zOUjUnFMuNKxcTJs"
     }
    }
   }
  },
  {
   "cell_type":"code",
   "source":[
    "print(f\"Mean value for vector `v`: {v.mean()}\")\n",
    "print(f\"Median for vector `v`: {np.median(v)}\")\n",
    "print(f\"Standard deviation for vector `v`: {np.std(v)}\")"
   ],
   "execution_count":75,
   "outputs":[
    {
     "name":"stdout",
     "text":[
      "Mean value for vector `v`: 8.4\n",
      "Median for vector `v`: 8.5\n",
      "Standard deviation for vector `v`: 5.471745608121781\n"
     ],
     "output_type":"stream"
    }
   ],
   "metadata":{
    "datalore":{
     "node_id":"SqbOcCCcMYS3yUk2Ur6Rti",
     "type":"CODE",
     "hide_input_from_viewers":false,
     "hide_output_from_viewers":false,
     "report_properties":{
      "rowId":"agN3EVFcpnI6BZdIuXqwFz"
     }
    }
   }
  },
  {
   "cell_type":"markdown",
   "source":[
    "Створити дві матриці випадкових чисел розміром 4х2 та 2х2. Перемножити їх:"
   ],
   "attachments":{
    
   },
   "metadata":{
    "datalore":{
     "node_id":"Je0p2PYWOYIYz1mqfouE6A",
     "type":"MD",
     "hide_input_from_viewers":false,
     "hide_output_from_viewers":false,
     "report_properties":{
      "rowId":"F7Z5Te32MlMHkoJf672bI8"
     }
    }
   }
  },
  {
   "cell_type":"code",
   "source":[
    "#first matrix\n",
    "np.random.seed(42)\n",
    "m1 = np.random.randint(1, 10, (4, 2))\n",
    "m1"
   ],
   "execution_count":76,
   "outputs":[
    {
     "data":{
      "text\/html":[
       "<pre>array([[7, 4],\n",
       "       [8, 5],\n",
       "       [7, 3],\n",
       "       [7, 8]])<\/pre>"
      ]
     },
     "metadata":{
      
     },
     "output_type":"display_data"
    }
   ],
   "metadata":{
    "datalore":{
     "node_id":"I30BpFNk716W5sXCTPbqTO",
     "type":"CODE",
     "hide_input_from_viewers":false,
     "hide_output_from_viewers":false,
     "report_properties":{
      "rowId":"jyAFKJjNYHeQ3hf60Q1BPQ"
     }
    }
   }
  },
  {
   "cell_type":"code",
   "source":[
    "#second matrix\n",
    "np.random.seed(42)\n",
    "m2 = np.random.randint(100, 120, (2, 2))\n",
    "m2"
   ],
   "execution_count":77,
   "outputs":[
    {
     "data":{
      "text\/html":[
       "<pre>array([[106, 119],\n",
       "       [114, 110]])<\/pre>"
      ]
     },
     "metadata":{
      
     },
     "output_type":"display_data"
    }
   ],
   "metadata":{
    "datalore":{
     "node_id":"v9hbXuKypkatpAbPMPP5ok",
     "type":"CODE",
     "hide_input_from_viewers":true,
     "hide_output_from_viewers":true
    }
   }
  },
  {
   "cell_type":"code",
   "source":[
    "#to multiply\n",
    "m1m2 = np.dot(m1, m2)\n",
    "m1m2"
   ],
   "execution_count":78,
   "outputs":[
    {
     "data":{
      "text\/html":[
       "<pre>array([[1198, 1273],\n",
       "       [1418, 1502],\n",
       "       [1084, 1163],\n",
       "       [1654, 1713]])<\/pre>"
      ]
     },
     "metadata":{
      
     },
     "output_type":"display_data"
    }
   ],
   "metadata":{
    "datalore":{
     "node_id":"WviffXbOvtJS0D4P1Epwcs",
     "type":"CODE",
     "hide_input_from_viewers":true,
     "hide_output_from_viewers":true
    }
   }
  },
  {
   "cell_type":"markdown",
   "source":[
    "Результуючу матрицю із попередньої задачі перетворити у вектор. Знайти мінімальне та максимальне значення. \n",
    "\n",
    "Максимальне значення замінити на 0:"
   ],
   "attachments":{
    
   },
   "metadata":{
    "datalore":{
     "node_id":"XmjqPNrk6Xn4AjDTSMBmCR",
     "type":"MD",
     "hide_input_from_viewers":false,
     "hide_output_from_viewers":false,
     "report_properties":{
      "rowId":"vvjoBYp0NJPF2Re0m5Ylum"
     }
    }
   }
  },
  {
   "cell_type":"code",
   "source":[
    "#to create a vector\n",
    "vm1m2 = m1m2.ravel()\n",
    "vm1m2"
   ],
   "execution_count":79,
   "outputs":[
    {
     "data":{
      "text\/html":[
       "<pre>array([1198, 1273, 1418, 1502, 1084, 1163, 1654, 1713])<\/pre>"
      ]
     },
     "metadata":{
      
     },
     "output_type":"display_data"
    }
   ],
   "metadata":{
    "datalore":{
     "node_id":"vuZLNLCPfRt1dblccKHNhe",
     "type":"CODE",
     "hide_input_from_viewers":false,
     "hide_output_from_viewers":false,
     "report_properties":{
      "rowId":"10uBVBaoXb47hiYrzQ5br2"
     }
    }
   }
  },
  {
   "cell_type":"code",
   "source":[
    "#to find min and max of the resulting vector\n",
    "print(f\"Min of vm1m2: {vm1m2.min()}\")\n",
    "print(f\"Max of vm1m2: {vm1m2.max()}\")"
   ],
   "execution_count":80,
   "outputs":[
    {
     "name":"stdout",
     "text":[
      "Min of vm1m2: 1084\n",
      "Max of vm1m2: 1713\n"
     ],
     "output_type":"stream"
    }
   ],
   "metadata":{
    "datalore":{
     "node_id":"lPDtpCS8zwTFwU5XU6UpnT",
     "type":"CODE",
     "hide_input_from_viewers":true,
     "hide_output_from_viewers":true
    }
   }
  },
  {
   "cell_type":"code",
   "source":[
    "#to substitute the max of the vector by zero\n",
    "max_ = vm1m2.max()\n",
    "vm1m2[vm1m2 == max_] = 0\n",
    "vm1m2"
   ],
   "execution_count":81,
   "outputs":[
    {
     "data":{
      "text\/html":[
       "<pre>array([1198, 1273, 1418, 1502, 1084, 1163, 1654,    0])<\/pre>"
      ]
     },
     "metadata":{
      
     },
     "output_type":"display_data"
    }
   ],
   "metadata":{
    "datalore":{
     "node_id":"pJLc2aLO39NJkfOdRs5tCR",
     "type":"CODE",
     "hide_input_from_viewers":true,
     "hide_output_from_viewers":true
    }
   }
  },
  {
   "cell_type":"markdown",
   "source":[
    "Знайдіть кореляцію першого рядка матриці із попереднього завдання із іншими рядками:"
   ],
   "attachments":{
    
   },
   "metadata":{
    "datalore":{
     "node_id":"8x7qkF5saII2OTrvpuRna4",
     "type":"MD",
     "hide_input_from_viewers":false,
     "hide_output_from_viewers":false,
     "report_properties":{
      "rowId":"Ifnn3cnoe5FWe36LFmO9gW"
     }
    }
   }
  },
  {
   "cell_type":"code",
   "source":[
    "#the matrix from the previous task\n",
    "m1m2"
   ],
   "execution_count":114,
   "outputs":[
    {
     "data":{
      "text\/html":[
       "<pre>array([[1198, 1273],\n",
       "       [1418, 1502],\n",
       "       [1084, 1163],\n",
       "       [1654,    0]])<\/pre>"
      ]
     },
     "metadata":{
      
     },
     "output_type":"display_data"
    }
   ],
   "metadata":{
    "datalore":{
     "node_id":"Hq53FEDciQ2ZlOs40mQtb8",
     "type":"CODE",
     "hide_input_from_viewers":false,
     "hide_output_from_viewers":false,
     "report_properties":{
      "rowId":"iNBvgUhPFn6PMp8FnFANR9"
     }
    }
   }
  },
  {
   "cell_type":"code",
   "source":[
    "#to calculate the correlation between the first row and all other rows of the matrix\n",
    "coeffs = np.corrcoef(m1m2[0], m1m2[1:])\n",
    "coeffs"
   ],
   "execution_count":131,
   "outputs":[
    {
     "data":{
      "text\/html":[
       "<pre>array([[ 1.,  1.,  1., -1.],\n",
       "       [ 1.,  1.,  1., -1.],\n",
       "       [ 1.,  1.,  1., -1.],\n",
       "       [-1., -1., -1.,  1.]])<\/pre>"
      ]
     },
     "metadata":{
      
     },
     "output_type":"display_data"
    }
   ],
   "metadata":{
    "datalore":{
     "node_id":"gUItpTNh0wJRIFfMZ87n1y",
     "type":"CODE",
     "hide_input_from_viewers":true,
     "hide_output_from_viewers":true
    }
   }
  },
  {
   "cell_type":"markdown",
   "source":[
    "Дано матрицю. Знайти ранг матриці:"
   ],
   "attachments":{
    
   },
   "metadata":{
    "datalore":{
     "node_id":"8jJgQmUumJqwEs8cn57pbx",
     "type":"MD",
     "hide_input_from_viewers":false,
     "hide_output_from_viewers":false,
     "report_properties":{
      "rowId":"YPtX2jMCb2ZoyVmXnbTIGi"
     }
    }
   }
  },
  {
   "cell_type":"code",
   "source":[
    "a = np.array([[ 1,  4, 5],\n",
    "              [7, 3, 2],\n",
    "              [9, 16, 1]])"
   ],
   "execution_count":162,
   "outputs":[
    
   ],
   "metadata":{
    "datalore":{
     "node_id":"2Mohht8htXWeGRkMyy6HfU",
     "type":"CODE",
     "hide_input_from_viewers":false,
     "hide_output_from_viewers":false,
     "report_properties":{
      "rowId":"CbPEsYthXNb1n6C68qDBj3"
     }
    }
   }
  },
  {
   "cell_type":"code",
   "source":[
    "from numpy import linalg\n",
    "\n",
    "rank = np.linalg.matrix_rank(a)\n",
    "print(f\"The rank of the matrix `a` is: {rank}\")"
   ],
   "execution_count":163,
   "outputs":[
    {
     "name":"stdout",
     "text":[
      "The rank of the matrix `a` is: 3\n"
     ],
     "output_type":"stream"
    }
   ],
   "metadata":{
    "datalore":{
     "node_id":"dUX6DSwqYVrzrWMy6MLodm",
     "type":"CODE",
     "hide_input_from_viewers":true,
     "hide_output_from_viewers":true
    }
   }
  },
  {
   "cell_type":"markdown",
   "source":[
    "Знайти визначник матриці:"
   ],
   "attachments":{
    
   },
   "metadata":{
    "datalore":{
     "node_id":"h5EyOc244xL2g58acNM5hH",
     "type":"MD",
     "hide_input_from_viewers":false,
     "hide_output_from_viewers":false,
     "report_properties":{
      "rowId":"DL4QHTr19m0S6V7ufcGZrp"
     }
    }
   }
  },
  {
   "cell_type":"code",
   "source":[
    "determinant = linalg.det(a)\n",
    "print(f\"The determinant of the matrix `a` is: {determinant}\")"
   ],
   "execution_count":164,
   "outputs":[
    {
     "name":"stdout",
     "text":[
      "The determinant of the matrix `a` is: 440.0000000000002\n"
     ],
     "output_type":"stream"
    }
   ],
   "metadata":{
    "datalore":{
     "node_id":"j120Y6efOE1F22FMH73ryC",
     "type":"CODE",
     "hide_input_from_viewers":false,
     "hide_output_from_viewers":false,
     "report_properties":{
      "rowId":"mI5Oi0poLA2OxhFnz14nNU"
     }
    }
   }
  },
  {
   "cell_type":"markdown",
   "source":[
    "Знайти власні значення та власні вектори матриці: "
   ],
   "attachments":{
    
   },
   "metadata":{
    "datalore":{
     "node_id":"YjD02wTHeOmIE7hsBeURLz",
     "type":"MD",
     "hide_input_from_viewers":false,
     "hide_output_from_viewers":false,
     "report_properties":{
      "rowId":"CZRQTQ6BffFNsswKtoVsuq"
     }
    }
   }
  },
  {
   "cell_type":"code",
   "source":[
    "eigenvalues, eigenvectors = np.linalg.eig(a)\n",
    "print(eigenvalues, eigenvectors) "
   ],
   "execution_count":179,
   "outputs":[
    {
     "name":"stdout",
     "text":[
      "[14.13520334+0.j         -4.56760167+3.20389947j -4.56760167-3.20389947j] [[ 0.43131913+0.j         -0.31386258-0.47450898j -0.31386258+0.47450898j]\n",
      " [ 0.41502436+0.j         -0.07049527+0.4090732j  -0.07049527-0.4090732j ]\n",
      " [ 0.8010734 +0.j          0.7099444 +0.j          0.7099444 -0.j        ]]\n"
     ],
     "output_type":"stream"
    }
   ],
   "metadata":{
    "datalore":{
     "node_id":"ZG0d0Mr6qj9W5QpioxWZey",
     "type":"CODE",
     "hide_input_from_viewers":false,
     "hide_output_from_viewers":false,
     "report_properties":{
      "rowId":"qJyzwFDm7KZKHCB9PbDp9v"
     }
    }
   }
  },
  {
   "cell_type":"markdown",
   "source":[
    "Знайдіть число, що найчастіше зустрічається в масиві:"
   ],
   "attachments":{
    
   },
   "metadata":{
    "datalore":{
     "node_id":"bE89vJZGEvk0eKj4XuJGL1",
     "type":"MD",
     "hide_input_from_viewers":false,
     "hide_output_from_viewers":false,
     "report_properties":{
      "rowId":"NjR7tiKOqu8Qk0WNWBr2ru"
     }
    }
   }
  },
  {
   "cell_type":"code",
   "source":[
    "a = np.random.randint(0,10,50)\n",
    "a"
   ],
   "execution_count":180,
   "outputs":[
    {
     "data":{
      "text\/html":[
       "<pre>array([7, 4, 6, 9, 2, 6, 7, 4, 3, 7, 7, 2, 5, 4, 1, 7, 5, 1, 4, 0, 9, 5,\n",
       "       8, 0, 9, 2, 6, 3, 8, 2, 4, 2, 6, 4, 8, 6, 1, 3, 8, 1, 9, 8, 9, 4,\n",
       "       1, 3, 6, 7, 2, 0])<\/pre>"
      ]
     },
     "metadata":{
      
     },
     "output_type":"display_data"
    }
   ],
   "metadata":{
    "datalore":{
     "node_id":"mL7pBvMhXDy4Fiq4MsGIR2",
     "type":"CODE",
     "hide_input_from_viewers":false,
     "hide_output_from_viewers":false,
     "report_properties":{
      "rowId":"zeqAkoVuxjpcheDDufJqiL"
     }
    }
   }
  },
  {
   "cell_type":"code",
   "source":[
    "print(\"Number with the highest frequency in `a`:\", np.bincount(a).argmax())"
   ],
   "execution_count":186,
   "outputs":[
    {
     "name":"stdout",
     "text":[
      "Number with the highest frequency in `a`: 4\n"
     ],
     "output_type":"stream"
    }
   ],
   "metadata":{
    "datalore":{
     "node_id":"qaN5hDP0qVrat3C2cmxvBO",
     "type":"CODE",
     "hide_input_from_viewers":true,
     "hide_output_from_viewers":true
    }
   }
  },
  {
   "cell_type":"markdown",
   "source":[
    "Виведіть лише парні числа, що діляться на 5:"
   ],
   "attachments":{
    
   },
   "metadata":{
    "datalore":{
     "node_id":"y08midZGcxNMHlM3gdCLhr",
     "type":"MD",
     "hide_input_from_viewers":false,
     "hide_output_from_viewers":false,
     "report_properties":{
      "rowId":"51dGbSMg6i42VcZ1t5j6ut"
     }
    }
   }
  },
  {
   "cell_type":"code",
   "source":[
    "a = np.random.randint(0,10,50)\n",
    "a"
   ],
   "execution_count":206,
   "outputs":[
    {
     "data":{
      "text\/html":[
       "<pre>array([7, 0, 5, 3, 0, 6, 8, 3, 3, 5, 2, 5, 6, 9, 9, 2, 6, 2, 1, 9, 3, 7,\n",
       "       8, 6, 0, 2, 8, 0, 8, 7, 0, 5, 4, 5, 9, 4, 5, 4, 4, 3, 2, 2, 3, 8,\n",
       "       1, 8, 0, 0, 4, 5])<\/pre>"
      ]
     },
     "metadata":{
      
     },
     "output_type":"display_data"
    }
   ],
   "metadata":{
    "datalore":{
     "node_id":"ZLcCczpYzpegOwigYEFcEz",
     "type":"CODE",
     "hide_input_from_viewers":true,
     "hide_output_from_viewers":true
    }
   }
  },
  {
   "cell_type":"code",
   "source":[
    "even_numbers = [i for i in list(a) if i%5 == 0 if i%2 ==0]\n",
    "print(\"Even numbers from `a` which are divisible by `5`:\", even_numbers)"
   ],
   "execution_count":214,
   "outputs":[
    {
     "name":"stdout",
     "text":[
      "Even numbers from `a` which are divisible by `5`: [0, 0, 0, 0, 0, 0, 0]\n"
     ],
     "output_type":"stream"
    }
   ],
   "metadata":{
    "datalore":{
     "node_id":"bTApBovqmeR3xpgwGzek6E",
     "type":"CODE",
     "hide_input_from_viewers":true,
     "hide_output_from_viewers":true
    }
   }
  },
  {
   "cell_type":"markdown",
   "source":[
    "Розв'яжіть систему рівнянь:\n",
    "$$2x + 5y = 1 $$\n",
    "\n",
    "$$x - 10y = 3  $$\n",
    "   "
   ],
   "attachments":{
    
   },
   "metadata":{
    "datalore":{
     "node_id":"rAtNjq0cHshTsYjXQ1VNgH",
     "type":"MD",
     "hide_input_from_viewers":false,
     "hide_output_from_viewers":false,
     "report_properties":{
      "rowId":"OSUXCJLn3O9IB1HNJPBNNR"
     }
    }
   }
  },
  {
   "cell_type":"code",
   "source":[
    "first_eq = np.array([[2, 5], [1, -10]])\n",
    "second_eq = np.array([1, 3])\n",
    "\n",
    "res = np.linalg.solve(first_eq, second_eq)\n",
    "print(\"x, y:\")\n",
    "print(res)"
   ],
   "execution_count":211,
   "outputs":[
    {
     "name":"stdout",
     "text":[
      "x, y:\n",
      "[ 1.  -0.2]\n"
     ],
     "output_type":"stream"
    }
   ],
   "metadata":{
    "datalore":{
     "node_id":"74W8xNPJs93qIuFRVz4qWP",
     "type":"CODE",
     "hide_input_from_viewers":true,
     "hide_output_from_viewers":true
    }
   }
  },
  {
   "cell_type":"code",
   "source":[
    "# To check the solution\n",
    "np.allclose(np.dot(first_eq, res), second_eq)"
   ],
   "execution_count":213,
   "outputs":[
    {
     "data":{
      "text\/plain":[
       "True"
      ]
     },
     "metadata":{
      
     },
     "output_type":"display_data"
    }
   ],
   "metadata":{
    "datalore":{
     "node_id":"1PUnQFWtR3cUF7N6t52h6v",
     "type":"CODE",
     "hide_input_from_viewers":true,
     "hide_output_from_viewers":true
    }
   }
  }
 ],
 "metadata":{
  "kernelspec":{
   "display_name":"Python",
   "language":"python",
   "name":"python"
  },
  "datalore":{
   "computation_mode":"JUPYTER",
   "package_manager":"pip",
   "base_environment":"default",
   "packages":[
    
   ],
   "report_row_ids":[
    "8TSTK1IoOCUtp2VEs7NOx1",
    "jClf6i0PAYXHRV4XpeaXtE",
    "EJtRtTARtCxfwJLBApeVza",
    "dgQxiJ6HUz5bco0YneVsDl",
    "M6n2nS6oaj3prr0VUIcbLt",
    "VYdLCO3so19c5XrhNnBXQH",
    "BG1ONO4855dAVsPWobpMfW",
    "z5OBQgsjiAe9HwQiSa7KDd",
    "D2XYedROtNCbSJsAkoN0Gs",
    "Li62p2O8iFM7ci3mhObGMv",
    "1WuSbEZVUAmfQJmmkM3POt",
    "zDBlVOotedn7hP3Xw20MkS",
    "8pcIS3k21TwnKGmtVL9Tu2",
    "tbl10HlzH7J3AYF7Wco4D2",
    "dPqlSwUGKFWlh2QChMz45G",
    "Uh6qQ6zOUjUnFMuNKxcTJs",
    "agN3EVFcpnI6BZdIuXqwFz",
    "F7Z5Te32MlMHkoJf672bI8",
    "jyAFKJjNYHeQ3hf60Q1BPQ",
    "vvjoBYp0NJPF2Re0m5Ylum",
    "10uBVBaoXb47hiYrzQ5br2",
    "Ifnn3cnoe5FWe36LFmO9gW",
    "iNBvgUhPFn6PMp8FnFANR9",
    "YPtX2jMCb2ZoyVmXnbTIGi",
    "CbPEsYthXNb1n6C68qDBj3",
    "DL4QHTr19m0S6V7ufcGZrp",
    "mI5Oi0poLA2OxhFnz14nNU",
    "CZRQTQ6BffFNsswKtoVsuq",
    "qJyzwFDm7KZKHCB9PbDp9v",
    "NjR7tiKOqu8Qk0WNWBr2ru",
    "zeqAkoVuxjpcheDDufJqiL",
    "51dGbSMg6i42VcZ1t5j6ut",
    "CFajH4U7TBl4zXwlmafypC",
    "OSUXCJLn3O9IB1HNJPBNNR",
    "kZ3Y4pkdVzFSPLBxq5qYBv"
   ],
   "version":2
  }
 },
 "nbformat":4,
 "nbformat_minor":4
}